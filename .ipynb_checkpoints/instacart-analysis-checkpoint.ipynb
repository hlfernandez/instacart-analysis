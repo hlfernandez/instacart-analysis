{
 "cells": [
  {
   "cell_type": "markdown",
   "metadata": {
    "toc": true
   },
   "source": [
    "<h1>Table of Contents<span class=\"tocSkip\"></span></h1>\n",
    "<div class=\"toc\"><ul class=\"toc-item\"><li><span><a href=\"#Introduction\" data-toc-modified-id=\"Introduction-1\"><span class=\"toc-item-num\">1&nbsp;&nbsp;</span>Introduction</a></span></li><li><span><a href=\"#KPIs\" data-toc-modified-id=\"KPIs-2\"><span class=\"toc-item-num\">2&nbsp;&nbsp;</span>KPIs</a></span><ul class=\"toc-item\"><li><span><a href=\"#Retention-rate\" data-toc-modified-id=\"Retention-rate-2.1\"><span class=\"toc-item-num\">2.1&nbsp;&nbsp;</span>Retention rate</a></span></li><li><span><a href=\"#Churn-rate\" data-toc-modified-id=\"Churn-rate-2.2\"><span class=\"toc-item-num\">2.2&nbsp;&nbsp;</span>Churn rate</a></span></li><li><span><a href=\"#Daily-active-users\" data-toc-modified-id=\"Daily-active-users-2.3\"><span class=\"toc-item-num\">2.3&nbsp;&nbsp;</span>Daily active users</a></span></li><li><span><a href=\"#Monthly-active-users\" data-toc-modified-id=\"Monthly-active-users-2.4\"><span class=\"toc-item-num\">2.4&nbsp;&nbsp;</span>Monthly active users</a></span></li><li><span><a href=\"#Monthly-sessions-per-monthly-active-users\" data-toc-modified-id=\"Monthly-sessions-per-monthly-active-users-2.5\"><span class=\"toc-item-num\">2.5&nbsp;&nbsp;</span>Monthly sessions per monthly active users</a></span></li><li><span><a href=\"#Stickiness\" data-toc-modified-id=\"Stickiness-2.6\"><span class=\"toc-item-num\">2.6&nbsp;&nbsp;</span>Stickiness</a></span></li><li><span><a href=\"#Lifetime-value\" data-toc-modified-id=\"Lifetime-value-2.7\"><span class=\"toc-item-num\">2.7&nbsp;&nbsp;</span>Lifetime value</a></span></li><li><span><a href=\"#Average-revenue-per-user\" data-toc-modified-id=\"Average-revenue-per-user-2.8\"><span class=\"toc-item-num\">2.8&nbsp;&nbsp;</span>Average revenue per user</a></span></li></ul></li><li><span><a href=\"#Recommendations\" data-toc-modified-id=\"Recommendations-3\"><span class=\"toc-item-num\">3&nbsp;&nbsp;</span>Recommendations</a></span></li></ul></div>"
   ]
  },
  {
   "cell_type": "markdown",
   "metadata": {},
   "source": [
    "# Introduction"
   ]
  },
  {
   "cell_type": "code",
   "execution_count": null,
   "metadata": {},
   "outputs": [],
   "source": []
  },
  {
   "cell_type": "markdown",
   "metadata": {},
   "source": [
    "# KPIs"
   ]
  },
  {
   "cell_type": "markdown",
   "metadata": {},
   "source": [
    "## Retention rate"
   ]
  },
  {
   "cell_type": "code",
   "execution_count": null,
   "metadata": {},
   "outputs": [],
   "source": []
  },
  {
   "cell_type": "markdown",
   "metadata": {},
   "source": [
    "## Churn rate"
   ]
  },
  {
   "cell_type": "code",
   "execution_count": null,
   "metadata": {},
   "outputs": [],
   "source": []
  },
  {
   "cell_type": "markdown",
   "metadata": {},
   "source": [
    "## Daily active users"
   ]
  },
  {
   "cell_type": "code",
   "execution_count": null,
   "metadata": {},
   "outputs": [],
   "source": []
  },
  {
   "cell_type": "markdown",
   "metadata": {},
   "source": [
    "## Monthly active users"
   ]
  },
  {
   "cell_type": "code",
   "execution_count": null,
   "metadata": {},
   "outputs": [],
   "source": []
  },
  {
   "cell_type": "markdown",
   "metadata": {},
   "source": [
    "## Monthly sessions per monthly active users"
   ]
  },
  {
   "cell_type": "code",
   "execution_count": null,
   "metadata": {},
   "outputs": [],
   "source": []
  },
  {
   "cell_type": "markdown",
   "metadata": {},
   "source": [
    "## Stickiness"
   ]
  },
  {
   "cell_type": "code",
   "execution_count": null,
   "metadata": {},
   "outputs": [],
   "source": []
  },
  {
   "cell_type": "markdown",
   "metadata": {},
   "source": [
    "## Lifetime value"
   ]
  },
  {
   "cell_type": "code",
   "execution_count": null,
   "metadata": {},
   "outputs": [],
   "source": []
  },
  {
   "cell_type": "markdown",
   "metadata": {},
   "source": [
    "## Average revenue per user"
   ]
  },
  {
   "cell_type": "code",
   "execution_count": null,
   "metadata": {},
   "outputs": [],
   "source": []
  },
  {
   "cell_type": "markdown",
   "metadata": {},
   "source": [
    "# Recommendations"
   ]
  },
  {
   "cell_type": "code",
   "execution_count": null,
   "metadata": {},
   "outputs": [],
   "source": []
  }
 ],
 "metadata": {
  "kernelspec": {
   "display_name": "learn-env",
   "language": "python",
   "name": "learn-env"
  },
  "language_info": {
   "codemirror_mode": {
    "name": "ipython",
    "version": 3
   },
   "file_extension": ".py",
   "mimetype": "text/x-python",
   "name": "python",
   "nbconvert_exporter": "python",
   "pygments_lexer": "ipython3",
   "version": "3.6.6"
  },
  "toc": {
   "base_numbering": 1,
   "nav_menu": {},
   "number_sections": true,
   "sideBar": true,
   "skip_h1_title": false,
   "title_cell": "Table of Contents",
   "title_sidebar": "Contents",
   "toc_cell": true,
   "toc_position": {},
   "toc_section_display": true,
   "toc_window_display": false
  }
 },
 "nbformat": 4,
 "nbformat_minor": 2
}
