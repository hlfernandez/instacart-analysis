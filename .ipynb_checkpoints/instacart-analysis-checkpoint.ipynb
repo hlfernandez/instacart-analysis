{
 "cells": [
  {
   "cell_type": "markdown",
   "metadata": {
    "toc": true
   },
   "source": [
    "<h1>Table of Contents<span class=\"tocSkip\"></span></h1>\n",
    "<div class=\"toc\"><ul class=\"toc-item\"><li><span><a href=\"#Introduction\" data-toc-modified-id=\"Introduction-1\"><span class=\"toc-item-num\">1&nbsp;&nbsp;</span>Introduction</a></span><ul class=\"toc-item\"><li><span><a href=\"#EDA\" data-toc-modified-id=\"EDA-1.1\"><span class=\"toc-item-num\">1.1&nbsp;&nbsp;</span>EDA</a></span><ul class=\"toc-item\"><li><span><a href=\"#Orders-table\" data-toc-modified-id=\"Orders-table-1.1.1\"><span class=\"toc-item-num\">1.1.1&nbsp;&nbsp;</span>Orders table</a></span></li><li><span><a href=\"#Order_products-table\" data-toc-modified-id=\"Order_products-table-1.1.2\"><span class=\"toc-item-num\">1.1.2&nbsp;&nbsp;</span>Order_products table</a></span></li><li><span><a href=\"#Products-table\" data-toc-modified-id=\"Products-table-1.1.3\"><span class=\"toc-item-num\">1.1.3&nbsp;&nbsp;</span>Products table</a></span></li><li><span><a href=\"#Aisles-table\" data-toc-modified-id=\"Aisles-table-1.1.4\"><span class=\"toc-item-num\">1.1.4&nbsp;&nbsp;</span>Aisles table</a></span></li><li><span><a href=\"#Departments-table\" data-toc-modified-id=\"Departments-table-1.1.5\"><span class=\"toc-item-num\">1.1.5&nbsp;&nbsp;</span>Departments table</a></span></li></ul></li></ul></li><li><span><a href=\"#KPIs\" data-toc-modified-id=\"KPIs-2\"><span class=\"toc-item-num\">2&nbsp;&nbsp;</span>KPIs</a></span><ul class=\"toc-item\"><li><span><a href=\"#Daily-active-users\" data-toc-modified-id=\"Daily-active-users-2.1\"><span class=\"toc-item-num\">2.1&nbsp;&nbsp;</span>Daily active users</a></span></li><li><span><a href=\"#Lifetime-value\" data-toc-modified-id=\"Lifetime-value-2.2\"><span class=\"toc-item-num\">2.2&nbsp;&nbsp;</span>Lifetime value</a></span></li><li><span><a href=\"#Average-revenue-per-user\" data-toc-modified-id=\"Average-revenue-per-user-2.3\"><span class=\"toc-item-num\">2.3&nbsp;&nbsp;</span>Average revenue per user</a></span></li></ul></li><li><span><a href=\"#Recommendations\" data-toc-modified-id=\"Recommendations-3\"><span class=\"toc-item-num\">3&nbsp;&nbsp;</span>Recommendations</a></span></li></ul></div>"
   ]
  },
  {
   "cell_type": "markdown",
   "metadata": {},
   "source": [
    "# Introduction"
   ]
  },
  {
   "cell_type": "code",
   "execution_count": 2,
   "metadata": {
    "ExecuteTime": {
     "end_time": "2020-03-11T15:03:27.057848Z",
     "start_time": "2020-03-11T15:03:27.052216Z"
    }
   },
   "outputs": [],
   "source": [
    "# Import needed packages\n",
    "import pandas as pd\n",
    "import numpy as np\n",
    "import matplotlib.pyplot as plt\n",
    "%matplotlib inline\n",
    "import seaborn as sns\n",
    "sns.set_context('talk')\n",
    "import sqlite3"
   ]
  },
  {
   "cell_type": "code",
   "execution_count": 3,
   "metadata": {
    "ExecuteTime": {
     "end_time": "2020-03-11T15:05:45.284073Z",
     "start_time": "2020-03-11T15:05:45.277090Z"
    }
   },
   "outputs": [],
   "source": [
    "# Set up connection to the database\n",
    "conn = sqlite3.connect('instacart.db')\n",
    "cur = conn.cursor()"
   ]
  },
  {
   "cell_type": "markdown",
   "metadata": {},
   "source": [
    "## EDA"
   ]
  },
  {
   "cell_type": "markdown",
   "metadata": {},
   "source": [
    "### Orders table"
   ]
  },
  {
   "cell_type": "code",
   "execution_count": 23,
   "metadata": {
    "ExecuteTime": {
     "end_time": "2020-03-11T15:38:37.354665Z",
     "start_time": "2020-03-11T15:38:35.793139Z"
    }
   },
   "outputs": [
    {
     "data": {
      "text/html": [
       "<div>\n",
       "<style scoped>\n",
       "    .dataframe tbody tr th:only-of-type {\n",
       "        vertical-align: middle;\n",
       "    }\n",
       "\n",
       "    .dataframe tbody tr th {\n",
       "        vertical-align: top;\n",
       "    }\n",
       "\n",
       "    .dataframe thead th {\n",
       "        text-align: right;\n",
       "    }\n",
       "</style>\n",
       "<table border=\"1\" class=\"dataframe\">\n",
       "  <thead>\n",
       "    <tr style=\"text-align: right;\">\n",
       "      <th></th>\n",
       "      <th>order_id</th>\n",
       "      <th>user_id</th>\n",
       "      <th>order_number</th>\n",
       "      <th>order_dow</th>\n",
       "      <th>order_hour_of_day</th>\n",
       "      <th>days_since_prior_order</th>\n",
       "    </tr>\n",
       "  </thead>\n",
       "  <tbody>\n",
       "    <tr>\n",
       "      <td>0</td>\n",
       "      <td>2168274</td>\n",
       "      <td>2</td>\n",
       "      <td>1</td>\n",
       "      <td>2</td>\n",
       "      <td>11</td>\n",
       "      <td>NaN</td>\n",
       "    </tr>\n",
       "    <tr>\n",
       "      <td>1</td>\n",
       "      <td>1501582</td>\n",
       "      <td>2</td>\n",
       "      <td>2</td>\n",
       "      <td>5</td>\n",
       "      <td>10</td>\n",
       "      <td>10.0</td>\n",
       "    </tr>\n",
       "    <tr>\n",
       "      <td>2</td>\n",
       "      <td>1901567</td>\n",
       "      <td>2</td>\n",
       "      <td>3</td>\n",
       "      <td>1</td>\n",
       "      <td>10</td>\n",
       "      <td>3.0</td>\n",
       "    </tr>\n",
       "    <tr>\n",
       "      <td>3</td>\n",
       "      <td>738281</td>\n",
       "      <td>2</td>\n",
       "      <td>4</td>\n",
       "      <td>2</td>\n",
       "      <td>10</td>\n",
       "      <td>8.0</td>\n",
       "    </tr>\n",
       "    <tr>\n",
       "      <td>4</td>\n",
       "      <td>1673511</td>\n",
       "      <td>2</td>\n",
       "      <td>5</td>\n",
       "      <td>3</td>\n",
       "      <td>11</td>\n",
       "      <td>8.0</td>\n",
       "    </tr>\n",
       "  </tbody>\n",
       "</table>\n",
       "</div>"
      ],
      "text/plain": [
       "   order_id  user_id  order_number  order_dow  order_hour_of_day  \\\n",
       "0   2168274        2             1          2                 11   \n",
       "1   1501582        2             2          5                 10   \n",
       "2   1901567        2             3          1                 10   \n",
       "3    738281        2             4          2                 10   \n",
       "4   1673511        2             5          3                 11   \n",
       "\n",
       "   days_since_prior_order  \n",
       "0                     NaN  \n",
       "1                    10.0  \n",
       "2                     3.0  \n",
       "3                     8.0  \n",
       "4                     8.0  "
      ]
     },
     "execution_count": 23,
     "metadata": {},
     "output_type": "execute_result"
    }
   ],
   "source": [
    "# Query the database and load the data\n",
    "cur.execute(\"\"\"\n",
    "    SELECT *\n",
    "    FROM orders\n",
    "            ;\"\"\")\n",
    "orders = pd.DataFrame(cur.fetchall())\n",
    "orders.columns = [x[0] for x in cur.description]\n",
    "orders.head()"
   ]
  },
  {
   "cell_type": "code",
   "execution_count": 24,
   "metadata": {
    "ExecuteTime": {
     "end_time": "2020-03-11T15:38:44.520383Z",
     "start_time": "2020-03-11T15:38:43.711842Z"
    }
   },
   "outputs": [
    {
     "name": "stderr",
     "output_type": "stream",
     "text": [
      "/Users/jennykreiger/anaconda3/envs/learn-env/lib/python3.6/site-packages/numpy/lib/histograms.py:824: RuntimeWarning: invalid value encountered in greater_equal\n",
      "  keep = (tmp_a >= first_edge)\n",
      "/Users/jennykreiger/anaconda3/envs/learn-env/lib/python3.6/site-packages/numpy/lib/histograms.py:825: RuntimeWarning: invalid value encountered in less_equal\n",
      "  keep &= (tmp_a <= last_edge)\n"
     ]
    },
    {
     "data": {
      "image/png": "[encoded data removed]",
      "text/plain": [
       "<Figure size 864x720 with 4 Axes>"
      ]
     },
     "metadata": {
      "needs_background": "light"
     },
     "output_type": "display_data"
    }
   ],
   "source": [
    "fig, axes = plt.subplots(2, 2, figsize=(12,10))\n",
    "\n",
    "ax0 = axes[0,0]\n",
    "ax0.hist(orders.user_id.value_counts())\n",
    "ax0.set_title('Orders Per User')\n",
    "ax0.set_xlabel('Orders')\n",
    "ax0.set_ylabel('Users')\n",
    "\n",
    "ax1 = axes[0,1]\n",
    "ax1.hist(orders.order_dow)\n",
    "ax1.set_title('Order Day of Week')\n",
    "ax1.set_xlabel('Day of Week')\n",
    "ax1.set_ylabel('Orders')\n",
    "\n",
    "ax2 = axes[1,0]\n",
    "ax2.hist(orders.order_hour_of_day)\n",
    "ax2.set_title('Order Hour of Day')\n",
    "ax2.set_xlabel('Hour (24-Hour Clock)')\n",
    "ax2.set_ylabel('Orders')\n",
    "\n",
    "ax3 = axes[1,1]\n",
    "ax3.hist(orders.days_since_prior_order)\n",
    "ax3.set_title('Days Since Prior Order')\n",
    "ax3.set_xlabel('Lag in Days')\n",
    "ax3.set_ylabel('Orders')\n",
    "\n",
    "plt.tight_layout()\n",
    "plt.show();\n"
   ]
  },
  {
   "cell_type": "markdown",
   "metadata": {},
   "source": [
    "### Order_products table"
   ]
  },
  {
   "cell_type": "code",
   "execution_count": 27,
   "metadata": {
    "ExecuteTime": {
     "end_time": "2020-03-11T15:41:05.480615Z",
     "start_time": "2020-03-11T15:41:05.434375Z"
    },
    "scrolled": false
   },
   "outputs": [
    {
     "data": {
      "text/html": [
       "<div>\n",
       "<style scoped>\n",
       "    .dataframe tbody tr th:only-of-type {\n",
       "        vertical-align: middle;\n",
       "    }\n",
       "\n",
       "    .dataframe tbody tr th {\n",
       "        vertical-align: top;\n",
       "    }\n",
       "\n",
       "    .dataframe thead th {\n",
       "        text-align: right;\n",
       "    }\n",
       "</style>\n",
       "<table border=\"1\" class=\"dataframe\">\n",
       "  <thead>\n",
       "    <tr style=\"text-align: right;\">\n",
       "      <th></th>\n",
       "      <th>order_id</th>\n",
       "      <th>product_id</th>\n",
       "      <th>add_to_cart_order</th>\n",
       "      <th>reordered</th>\n",
       "    </tr>\n",
       "  </thead>\n",
       "  <tbody>\n",
       "    <tr>\n",
       "      <td>0</td>\n",
       "      <td>2</td>\n",
       "      <td>33120</td>\n",
       "      <td>1</td>\n",
       "      <td>1</td>\n",
       "    </tr>\n",
       "    <tr>\n",
       "      <td>1</td>\n",
       "      <td>2</td>\n",
       "      <td>28985</td>\n",
       "      <td>2</td>\n",
       "      <td>1</td>\n",
       "    </tr>\n",
       "    <tr>\n",
       "      <td>2</td>\n",
       "      <td>2</td>\n",
       "      <td>9327</td>\n",
       "      <td>3</td>\n",
       "      <td>0</td>\n",
       "    </tr>\n",
       "    <tr>\n",
       "      <td>3</td>\n",
       "      <td>2</td>\n",
       "      <td>45918</td>\n",
       "      <td>4</td>\n",
       "      <td>1</td>\n",
       "    </tr>\n",
       "    <tr>\n",
       "      <td>4</td>\n",
       "      <td>2</td>\n",
       "      <td>30035</td>\n",
       "      <td>5</td>\n",
       "      <td>0</td>\n",
       "    </tr>\n",
       "  </tbody>\n",
       "</table>\n",
       "</div>"
      ],
      "text/plain": [
       "   order_id  product_id  add_to_cart_order  reordered\n",
       "0         2       33120                  1          1\n",
       "1         2       28985                  2          1\n",
       "2         2        9327                  3          0\n",
       "3         2       45918                  4          1\n",
       "4         2       30035                  5          0"
      ]
     },
     "execution_count": 27,
     "metadata": {},
     "output_type": "execute_result"
    }
   ],
   "source": [
    "# Query the database and load the data\n",
    "cur.execute(\"\"\"\n",
    "    SELECT *\n",
    "    FROM order_products\n",
    "    LIMIT 10000\n",
    "            ;\"\"\")\n",
    "order_products = pd.DataFrame(cur.fetchall())\n",
    "order_products.columns = [x[0] for x in cur.description]\n",
    "order_products.head()"
   ]
  },
  {
   "cell_type": "code",
   "execution_count": 34,
   "metadata": {
    "ExecuteTime": {
     "end_time": "2020-03-11T16:01:38.411872Z",
     "start_time": "2020-03-11T16:01:38.220089Z"
    },
    "scrolled": true
   },
   "outputs": [
    {
     "data": {
      "image/png": "[encoded data removed]",
      "text/plain": [
       "<Figure size 432x288 with 1 Axes>"
      ]
     },
     "metadata": {
      "needs_background": "light"
     },
     "output_type": "display_data"
    }
   ],
   "source": [
    "plt.hist(order_products.order_id.value_counts());"
   ]
  },
  {
   "cell_type": "code",
   "execution_count": 37,
   "metadata": {
    "ExecuteTime": {
     "end_time": "2020-03-11T16:03:11.806060Z",
     "start_time": "2020-03-11T16:03:11.599676Z"
    }
   },
   "outputs": [
    {
     "data": {
      "image/png": "[encoded data removed]",
      "text/plain": [
       "<Figure size 432x288 with 1 Axes>"
      ]
     },
     "metadata": {
      "needs_background": "light"
     },
     "output_type": "display_data"
    }
   ],
   "source": [
    "plt.hist(order_products.groupby('order_id')['reordered'].mean());"
   ]
  },
  {
   "cell_type": "markdown",
   "metadata": {},
   "source": [
    "### Products table"
   ]
  },
  {
   "cell_type": "code",
   "execution_count": 28,
   "metadata": {
    "ExecuteTime": {
     "end_time": "2020-03-11T15:41:21.559203Z",
     "start_time": "2020-03-11T15:41:21.369881Z"
    }
   },
   "outputs": [
    {
     "data": {
      "text/html": [
       "<div>\n",
       "<style scoped>\n",
       "    .dataframe tbody tr th:only-of-type {\n",
       "        vertical-align: middle;\n",
       "    }\n",
       "\n",
       "    .dataframe tbody tr th {\n",
       "        vertical-align: top;\n",
       "    }\n",
       "\n",
       "    .dataframe thead th {\n",
       "        text-align: right;\n",
       "    }\n",
       "</style>\n",
       "<table border=\"1\" class=\"dataframe\">\n",
       "  <thead>\n",
       "    <tr style=\"text-align: right;\">\n",
       "      <th></th>\n",
       "      <th>index</th>\n",
       "      <th>product_id</th>\n",
       "      <th>product_name</th>\n",
       "      <th>aisle_id</th>\n",
       "      <th>department_id</th>\n",
       "    </tr>\n",
       "  </thead>\n",
       "  <tbody>\n",
       "    <tr>\n",
       "      <td>0</td>\n",
       "      <td>0</td>\n",
       "      <td>1</td>\n",
       "      <td>Chocolate Sandwich Cookies</td>\n",
       "      <td>61</td>\n",
       "      <td>19</td>\n",
       "    </tr>\n",
       "    <tr>\n",
       "      <td>1</td>\n",
       "      <td>1</td>\n",
       "      <td>2</td>\n",
       "      <td>All-Seasons Salt</td>\n",
       "      <td>104</td>\n",
       "      <td>13</td>\n",
       "    </tr>\n",
       "    <tr>\n",
       "      <td>2</td>\n",
       "      <td>2</td>\n",
       "      <td>3</td>\n",
       "      <td>Robust Golden Unsweetened Oolong Tea</td>\n",
       "      <td>94</td>\n",
       "      <td>7</td>\n",
       "    </tr>\n",
       "    <tr>\n",
       "      <td>3</td>\n",
       "      <td>3</td>\n",
       "      <td>4</td>\n",
       "      <td>Smart Ones Classic Favorites Mini Rigatoni Wit...</td>\n",
       "      <td>38</td>\n",
       "      <td>1</td>\n",
       "    </tr>\n",
       "    <tr>\n",
       "      <td>4</td>\n",
       "      <td>4</td>\n",
       "      <td>5</td>\n",
       "      <td>Green Chile Anytime Sauce</td>\n",
       "      <td>5</td>\n",
       "      <td>13</td>\n",
       "    </tr>\n",
       "  </tbody>\n",
       "</table>\n",
       "</div>"
      ],
      "text/plain": [
       "   index  product_id                                       product_name  \\\n",
       "0      0           1                         Chocolate Sandwich Cookies   \n",
       "1      1           2                                   All-Seasons Salt   \n",
       "2      2           3               Robust Golden Unsweetened Oolong Tea   \n",
       "3      3           4  Smart Ones Classic Favorites Mini Rigatoni Wit...   \n",
       "4      4           5                          Green Chile Anytime Sauce   \n",
       "\n",
       "   aisle_id  department_id  \n",
       "0        61             19  \n",
       "1       104             13  \n",
       "2        94              7  \n",
       "3        38              1  \n",
       "4         5             13  "
      ]
     },
     "execution_count": 28,
     "metadata": {},
     "output_type": "execute_result"
    }
   ],
   "source": [
    "# Query the database and load the data\n",
    "cur.execute(\"\"\"\n",
    "    SELECT *\n",
    "    FROM products\n",
    "            ;\"\"\")\n",
    "products = pd.DataFrame(cur.fetchall())\n",
    "products.columns = [x[0] for x in cur.description]\n",
    "products.head()"
   ]
  },
  {
   "cell_type": "code",
   "execution_count": 42,
   "metadata": {
    "ExecuteTime": {
     "end_time": "2020-03-11T16:12:49.856770Z",
     "start_time": "2020-03-11T16:12:49.498711Z"
    },
    "scrolled": true
   },
   "outputs": [
    {
     "data": {
      "image/png": "[encoded data removed]",
      "text/plain": [
       "<Figure size 864x288 with 2 Axes>"
      ]
     },
     "metadata": {
      "needs_background": "light"
     },
     "output_type": "display_data"
    }
   ],
   "source": [
    "fig, axes = plt.subplots(1, 2, figsize=(12,4))\n",
    "\n",
    "ax0 = axes[0]\n",
    "ax0.hist(products.aisle_id)\n",
    "ax0.set_title('Products in Aisles')\n",
    "\n",
    "ax1 = axes[1]\n",
    "ax1.hist(products.department_id)\n",
    "ax1.set_title('Products in Departments')\n",
    "\n",
    "plt.tight_layout()\n",
    "plt.show();"
   ]
  },
  {
   "cell_type": "code",
   "execution_count": 41,
   "metadata": {
    "ExecuteTime": {
     "end_time": "2020-03-11T16:11:27.080800Z",
     "start_time": "2020-03-11T16:11:27.055612Z"
    }
   },
   "outputs": [
    {
     "name": "stdout",
     "output_type": "stream",
     "text": [
      "<class 'pandas.core.frame.DataFrame'>\n",
      "RangeIndex: 49688 entries, 0 to 49687\n",
      "Data columns (total 5 columns):\n",
      "index            49688 non-null int64\n",
      "product_id       49688 non-null int64\n",
      "product_name     49688 non-null object\n",
      "aisle_id         49688 non-null int64\n",
      "department_id    49688 non-null int64\n",
      "dtypes: int64(4), object(1)\n",
      "memory usage: 1.9+ MB\n"
     ]
    }
   ],
   "source": [
    "products.info()"
   ]
  },
  {
   "cell_type": "markdown",
   "metadata": {},
   "source": [
    "Aside from the questions below about number of products per aisle or dept, what else can we ask here? "
   ]
  },
  {
   "cell_type": "markdown",
   "metadata": {},
   "source": [
    "### Aisles table"
   ]
  },
  {
   "cell_type": "code",
   "execution_count": 30,
   "metadata": {
    "ExecuteTime": {
     "end_time": "2020-03-11T15:42:10.306660Z",
     "start_time": "2020-03-11T15:42:10.292288Z"
    },
    "scrolled": false
   },
   "outputs": [
    {
     "data": {
      "text/html": [
       "<div>\n",
       "<style scoped>\n",
       "    .dataframe tbody tr th:only-of-type {\n",
       "        vertical-align: middle;\n",
       "    }\n",
       "\n",
       "    .dataframe tbody tr th {\n",
       "        vertical-align: top;\n",
       "    }\n",
       "\n",
       "    .dataframe thead th {\n",
       "        text-align: right;\n",
       "    }\n",
       "</style>\n",
       "<table border=\"1\" class=\"dataframe\">\n",
       "  <thead>\n",
       "    <tr style=\"text-align: right;\">\n",
       "      <th></th>\n",
       "      <th>index</th>\n",
       "      <th>aisle_id</th>\n",
       "      <th>aisle</th>\n",
       "    </tr>\n",
       "  </thead>\n",
       "  <tbody>\n",
       "    <tr>\n",
       "      <td>0</td>\n",
       "      <td>0</td>\n",
       "      <td>1</td>\n",
       "      <td>prepared soups salads</td>\n",
       "    </tr>\n",
       "    <tr>\n",
       "      <td>1</td>\n",
       "      <td>1</td>\n",
       "      <td>2</td>\n",
       "      <td>specialty cheeses</td>\n",
       "    </tr>\n",
       "    <tr>\n",
       "      <td>2</td>\n",
       "      <td>2</td>\n",
       "      <td>3</td>\n",
       "      <td>energy granola bars</td>\n",
       "    </tr>\n",
       "    <tr>\n",
       "      <td>3</td>\n",
       "      <td>3</td>\n",
       "      <td>4</td>\n",
       "      <td>instant foods</td>\n",
       "    </tr>\n",
       "    <tr>\n",
       "      <td>4</td>\n",
       "      <td>4</td>\n",
       "      <td>5</td>\n",
       "      <td>marinades meat preparation</td>\n",
       "    </tr>\n",
       "  </tbody>\n",
       "</table>\n",
       "</div>"
      ],
      "text/plain": [
       "   index  aisle_id                       aisle\n",
       "0      0         1       prepared soups salads\n",
       "1      1         2           specialty cheeses\n",
       "2      2         3         energy granola bars\n",
       "3      3         4               instant foods\n",
       "4      4         5  marinades meat preparation"
      ]
     },
     "execution_count": 30,
     "metadata": {},
     "output_type": "execute_result"
    }
   ],
   "source": [
    "# Query the database and load the data\n",
    "cur.execute(\"\"\"\n",
    "    SELECT *\n",
    "    FROM aisles\n",
    "            ;\"\"\")\n",
    "aisles = pd.DataFrame(cur.fetchall())\n",
    "aisles.columns = [x[0] for x in cur.description]\n",
    "aisles.head()"
   ]
  },
  {
   "cell_type": "code",
   "execution_count": 43,
   "metadata": {
    "ExecuteTime": {
     "end_time": "2020-03-11T16:13:52.487521Z",
     "start_time": "2020-03-11T16:13:52.468215Z"
    }
   },
   "outputs": [
    {
     "data": {
      "text/html": [
       "<div>\n",
       "<style scoped>\n",
       "    .dataframe tbody tr th:only-of-type {\n",
       "        vertical-align: middle;\n",
       "    }\n",
       "\n",
       "    .dataframe tbody tr th {\n",
       "        vertical-align: top;\n",
       "    }\n",
       "\n",
       "    .dataframe thead th {\n",
       "        text-align: right;\n",
       "    }\n",
       "</style>\n",
       "<table border=\"1\" class=\"dataframe\">\n",
       "  <thead>\n",
       "    <tr style=\"text-align: right;\">\n",
       "      <th></th>\n",
       "      <th>index</th>\n",
       "      <th>aisle_id</th>\n",
       "      <th>aisle</th>\n",
       "    </tr>\n",
       "  </thead>\n",
       "  <tbody>\n",
       "    <tr>\n",
       "      <td>99</td>\n",
       "      <td>99</td>\n",
       "      <td>100</td>\n",
       "      <td>missing</td>\n",
       "    </tr>\n",
       "  </tbody>\n",
       "</table>\n",
       "</div>"
      ],
      "text/plain": [
       "    index  aisle_id    aisle\n",
       "99     99       100  missing"
      ]
     },
     "execution_count": 43,
     "metadata": {},
     "output_type": "execute_result"
    }
   ],
   "source": [
    "aisles[aisles['aisle_id'] == 100]"
   ]
  },
  {
   "cell_type": "code",
   "execution_count": 40,
   "metadata": {
    "ExecuteTime": {
     "end_time": "2020-03-11T16:09:30.551916Z",
     "start_time": "2020-03-11T16:09:30.538468Z"
    },
    "scrolled": false
   },
   "outputs": [
    {
     "name": "stdout",
     "output_type": "stream",
     "text": [
      "<class 'pandas.core.frame.DataFrame'>\n",
      "RangeIndex: 134 entries, 0 to 133\n",
      "Data columns (total 3 columns):\n",
      "index       134 non-null int64\n",
      "aisle_id    134 non-null int64\n",
      "aisle       134 non-null object\n",
      "dtypes: int64(2), object(1)\n",
      "memory usage: 3.3+ KB\n"
     ]
    }
   ],
   "source": [
    "aisles.info()"
   ]
  },
  {
   "cell_type": "code",
   "execution_count": 44,
   "metadata": {
    "ExecuteTime": {
     "end_time": "2020-03-11T16:14:26.297576Z",
     "start_time": "2020-03-11T16:14:26.285564Z"
    },
    "scrolled": true
   },
   "outputs": [
    {
     "data": {
      "text/plain": [
       "['prepared soups salads',\n",
       " 'specialty cheeses',\n",
       " 'energy granola bars',\n",
       " 'instant foods',\n",
       " 'marinades meat preparation',\n",
       " 'other',\n",
       " 'packaged meat',\n",
       " 'bakery desserts',\n",
       " 'pasta sauce',\n",
       " 'kitchen supplies',\n",
       " 'cold flu allergy',\n",
       " 'fresh pasta',\n",
       " 'prepared meals',\n",
       " 'tofu meat alternatives',\n",
       " 'packaged seafood',\n",
       " 'fresh herbs',\n",
       " 'baking ingredients',\n",
       " 'bulk dried fruits vegetables',\n",
       " 'oils vinegars',\n",
       " 'oral hygiene',\n",
       " 'packaged cheese',\n",
       " 'hair care',\n",
       " 'popcorn jerky',\n",
       " 'fresh fruits',\n",
       " 'soap',\n",
       " 'coffee',\n",
       " 'beers coolers',\n",
       " 'red wines',\n",
       " 'honeys syrups nectars',\n",
       " 'latino foods',\n",
       " 'refrigerated',\n",
       " 'packaged produce',\n",
       " 'kosher foods',\n",
       " 'frozen meat seafood',\n",
       " 'poultry counter',\n",
       " 'butter',\n",
       " 'ice cream ice',\n",
       " 'frozen meals',\n",
       " 'seafood counter',\n",
       " 'dog food care',\n",
       " 'cat food care',\n",
       " 'frozen vegan vegetarian',\n",
       " 'buns rolls',\n",
       " 'eye ear care',\n",
       " 'candy chocolate',\n",
       " 'mint gum',\n",
       " 'vitamins supplements',\n",
       " 'breakfast bars pastries',\n",
       " 'packaged poultry',\n",
       " 'fruit vegetable snacks',\n",
       " 'preserved dips spreads',\n",
       " 'frozen breakfast',\n",
       " 'cream',\n",
       " 'paper goods',\n",
       " 'shave needs',\n",
       " 'diapers wipes',\n",
       " 'granola',\n",
       " 'frozen breads doughs',\n",
       " 'canned meals beans',\n",
       " 'trash bags liners',\n",
       " 'cookies cakes',\n",
       " 'white wines',\n",
       " 'grains rice dried goods',\n",
       " 'energy sports drinks',\n",
       " 'protein meal replacements',\n",
       " 'asian foods',\n",
       " 'fresh dips tapenades',\n",
       " 'bulk grains rice dried goods',\n",
       " 'soup broth bouillon',\n",
       " 'digestion',\n",
       " 'refrigerated pudding desserts',\n",
       " 'condiments',\n",
       " 'facial care',\n",
       " 'dish detergents',\n",
       " 'laundry',\n",
       " 'indian foods',\n",
       " 'soft drinks',\n",
       " 'crackers',\n",
       " 'frozen pizza',\n",
       " 'deodorants',\n",
       " 'canned jarred vegetables',\n",
       " 'baby accessories',\n",
       " 'fresh vegetables',\n",
       " 'milk',\n",
       " 'food storage',\n",
       " 'eggs',\n",
       " 'more household',\n",
       " 'spreads',\n",
       " 'salad dressing toppings',\n",
       " 'cocoa drink mixes',\n",
       " 'soy lactosefree',\n",
       " 'baby food formula',\n",
       " 'breakfast bakery',\n",
       " 'tea',\n",
       " 'canned meat seafood',\n",
       " 'lunch meat',\n",
       " 'baking supplies decor',\n",
       " 'juice nectars',\n",
       " 'canned fruit applesauce',\n",
       " 'missing',\n",
       " 'air fresheners candles',\n",
       " 'baby bath body care',\n",
       " 'ice cream toppings',\n",
       " 'spices seasonings',\n",
       " 'doughs gelatins bake mixes',\n",
       " 'hot dogs bacon sausage',\n",
       " 'chips pretzels',\n",
       " 'other creams cheeses',\n",
       " 'skin care',\n",
       " 'pickled goods olives',\n",
       " 'plates bowls cups flatware',\n",
       " 'bread',\n",
       " 'frozen juice',\n",
       " 'cleaning products',\n",
       " 'water seltzer sparkling water',\n",
       " 'frozen produce',\n",
       " 'nuts seeds dried fruit',\n",
       " 'first aid',\n",
       " 'frozen dessert',\n",
       " 'yogurt',\n",
       " 'cereal',\n",
       " 'meat counter',\n",
       " 'packaged vegetables fruits',\n",
       " 'spirits',\n",
       " 'trail mix snack mix',\n",
       " 'feminine care',\n",
       " 'body lotions soap',\n",
       " 'tortillas flat bread',\n",
       " 'frozen appetizers sides',\n",
       " 'hot cereal pancake mixes',\n",
       " 'dry pasta',\n",
       " 'beauty',\n",
       " 'muscles joints pain relief',\n",
       " 'specialty wines champagnes']"
      ]
     },
     "execution_count": 44,
     "metadata": {},
     "output_type": "execute_result"
    }
   ],
   "source": [
    "[name for name in aisles.aisle]"
   ]
  },
  {
   "cell_type": "markdown",
   "metadata": {},
   "source": [
    "- What aisles contain the most products? Least?\n",
    "- What aisles do people order from the most?"
   ]
  },
  {
   "cell_type": "markdown",
   "metadata": {
    "ExecuteTime": {
     "end_time": "2020-03-11T15:42:34.137977Z",
     "start_time": "2020-03-11T15:42:33.941587Z"
    }
   },
   "source": [
    "### Departments table"
   ]
  },
  {
   "cell_type": "code",
   "execution_count": 33,
   "metadata": {
    "ExecuteTime": {
     "end_time": "2020-03-11T15:43:50.612055Z",
     "start_time": "2020-03-11T15:43:50.591412Z"
    }
   },
   "outputs": [
    {
     "data": {
      "text/html": [
       "<div>\n",
       "<style scoped>\n",
       "    .dataframe tbody tr th:only-of-type {\n",
       "        vertical-align: middle;\n",
       "    }\n",
       "\n",
       "    .dataframe tbody tr th {\n",
       "        vertical-align: top;\n",
       "    }\n",
       "\n",
       "    .dataframe thead th {\n",
       "        text-align: right;\n",
       "    }\n",
       "</style>\n",
       "<table border=\"1\" class=\"dataframe\">\n",
       "  <thead>\n",
       "    <tr style=\"text-align: right;\">\n",
       "      <th></th>\n",
       "      <th>index</th>\n",
       "      <th>department_id</th>\n",
       "      <th>department</th>\n",
       "    </tr>\n",
       "  </thead>\n",
       "  <tbody>\n",
       "    <tr>\n",
       "      <td>0</td>\n",
       "      <td>0</td>\n",
       "      <td>1</td>\n",
       "      <td>frozen</td>\n",
       "    </tr>\n",
       "    <tr>\n",
       "      <td>1</td>\n",
       "      <td>1</td>\n",
       "      <td>2</td>\n",
       "      <td>other</td>\n",
       "    </tr>\n",
       "    <tr>\n",
       "      <td>2</td>\n",
       "      <td>2</td>\n",
       "      <td>3</td>\n",
       "      <td>bakery</td>\n",
       "    </tr>\n",
       "    <tr>\n",
       "      <td>3</td>\n",
       "      <td>3</td>\n",
       "      <td>4</td>\n",
       "      <td>produce</td>\n",
       "    </tr>\n",
       "    <tr>\n",
       "      <td>4</td>\n",
       "      <td>4</td>\n",
       "      <td>5</td>\n",
       "      <td>alcohol</td>\n",
       "    </tr>\n",
       "  </tbody>\n",
       "</table>\n",
       "</div>"
      ],
      "text/plain": [
       "   index  department_id department\n",
       "0      0              1     frozen\n",
       "1      1              2      other\n",
       "2      2              3     bakery\n",
       "3      3              4    produce\n",
       "4      4              5    alcohol"
      ]
     },
     "execution_count": 33,
     "metadata": {},
     "output_type": "execute_result"
    }
   ],
   "source": [
    "# Query the database and load the data\n",
    "cur.execute(\"\"\"\n",
    "    SELECT *\n",
    "    FROM departments\n",
    "            ;\"\"\")\n",
    "departments = pd.DataFrame(cur.fetchall())\n",
    "departments.columns = [x[0] for x in cur.description]\n",
    "departments.head()"
   ]
  },
  {
   "cell_type": "code",
   "execution_count": 38,
   "metadata": {
    "ExecuteTime": {
     "end_time": "2020-03-11T16:05:20.349858Z",
     "start_time": "2020-03-11T16:05:20.338898Z"
    }
   },
   "outputs": [
    {
     "name": "stdout",
     "output_type": "stream",
     "text": [
      "<class 'pandas.core.frame.DataFrame'>\n",
      "RangeIndex: 21 entries, 0 to 20\n",
      "Data columns (total 3 columns):\n",
      "index            21 non-null int64\n",
      "department_id    21 non-null int64\n",
      "department       21 non-null object\n",
      "dtypes: int64(2), object(1)\n",
      "memory usage: 632.0+ bytes\n"
     ]
    }
   ],
   "source": [
    "departments.info()"
   ]
  },
  {
   "cell_type": "code",
   "execution_count": 39,
   "metadata": {
    "ExecuteTime": {
     "end_time": "2020-03-11T16:05:44.084489Z",
     "start_time": "2020-03-11T16:05:44.074744Z"
    }
   },
   "outputs": [
    {
     "data": {
      "text/plain": [
       "['frozen',\n",
       " 'other',\n",
       " 'bakery',\n",
       " 'produce',\n",
       " 'alcohol',\n",
       " 'international',\n",
       " 'beverages',\n",
       " 'pets',\n",
       " 'dry goods pasta',\n",
       " 'bulk',\n",
       " 'personal care',\n",
       " 'meat seafood',\n",
       " 'pantry',\n",
       " 'breakfast',\n",
       " 'canned goods',\n",
       " 'dairy eggs',\n",
       " 'household',\n",
       " 'babies',\n",
       " 'snacks',\n",
       " 'deli',\n",
       " 'missing']"
      ]
     },
     "execution_count": 39,
     "metadata": {},
     "output_type": "execute_result"
    }
   ],
   "source": [
    "[name for name in departments.department]"
   ]
  },
  {
   "cell_type": "markdown",
   "metadata": {},
   "source": [
    "- What are the various departments?\n",
    "- Which departments contain the most items?\n",
    "- Which departments do people order from the most?"
   ]
  },
  {
   "cell_type": "code",
   "execution_count": null,
   "metadata": {},
   "outputs": [],
   "source": []
  },
  {
   "cell_type": "markdown",
   "metadata": {},
   "source": [
    "# KPIs"
   ]
  },
  {
   "cell_type": "markdown",
   "metadata": {},
   "source": [
    "- Do people buying stuff for babies buy more items overall? (Hypothesis test: number of products in orders containing baby items v. orders not containing baby items.)\n",
    "- What about people buying alcohol? Is alcohol part of a larger order, eg for a party, or are people using this as an alcohol delivery service?\n",
    "- What can we learn about the most active users (e.g., top 1% by number or size of orders?)\n",
    "- What are the busiest days of week?\n",
    "- What are the busiest times of day?\n",
    "- What are the most popular items?\n",
    "- Does order size vary by day or time? E.g., are people placing smaller orders on weeknights and bigger orders on weekends? (This is a hypothesis test: weeknight order product count v. weekend order product count.)\n",
    "- Can customers be clustered in any interesting ways? E.g., weekend v. weekday, alcohol consumers, baby product consumers, meat consumers, organic consumers? Features to create: number of orders; average size of order; average time of day; average DOW; average time between orders; has ordered alcohol; has ordered baby stuff; average reorder rate > 50%; "
   ]
  },
  {
   "cell_type": "code",
   "execution_count": null,
   "metadata": {},
   "outputs": [],
   "source": []
  },
  {
   "cell_type": "markdown",
   "metadata": {},
   "source": [
    "## Daily active users"
   ]
  },
  {
   "cell_type": "code",
   "execution_count": null,
   "metadata": {},
   "outputs": [],
   "source": []
  },
  {
   "cell_type": "code",
   "execution_count": null,
   "metadata": {},
   "outputs": [],
   "source": []
  },
  {
   "cell_type": "code",
   "execution_count": null,
   "metadata": {},
   "outputs": [],
   "source": []
  },
  {
   "cell_type": "code",
   "execution_count": null,
   "metadata": {},
   "outputs": [],
   "source": []
  },
  {
   "cell_type": "code",
   "execution_count": null,
   "metadata": {},
   "outputs": [],
   "source": []
  },
  {
   "cell_type": "markdown",
   "metadata": {},
   "source": [
    "# Recommendations"
   ]
  },
  {
   "cell_type": "code",
   "execution_count": null,
   "metadata": {},
   "outputs": [],
   "source": []
  }
 ],
 "metadata": {
  "kernelspec": {
   "display_name": "learn-env",
   "language": "python",
   "name": "learn-env"
  },
  "language_info": {
   "codemirror_mode": {
    "name": "ipython",
    "version": 3
   },
   "file_extension": ".py",
   "mimetype": "text/x-python",
   "name": "python",
   "nbconvert_exporter": "python",
   "pygments_lexer": "ipython3",
   "version": "3.6.6"
  },
  "toc": {
   "base_numbering": 1,
   "nav_menu": {},
   "number_sections": true,
   "sideBar": true,
   "skip_h1_title": false,
   "title_cell": "Table of Contents",
   "title_sidebar": "Contents",
   "toc_cell": true,
   "toc_position": {},
   "toc_section_display": true,
   "toc_window_display": false
  }
 },
 "nbformat": 4,
 "nbformat_minor": 2
}
