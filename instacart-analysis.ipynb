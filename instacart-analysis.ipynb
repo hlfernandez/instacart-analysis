{
 "cells": [
  {
   "cell_type": "markdown",
   "metadata": {
    "toc": true
   },
   "source": [
    "<h1>Table of Contents<span class=\"tocSkip\"></span></h1>\n",
    "<div class=\"toc\"><ul class=\"toc-item\"><li><span><a href=\"#Introduction\" data-toc-modified-id=\"Introduction-1\"><span class=\"toc-item-num\">1&nbsp;&nbsp;</span>Introduction</a></span><ul class=\"toc-item\"><li><span><a href=\"#EDA\" data-toc-modified-id=\"EDA-1.1\"><span class=\"toc-item-num\">1.1&nbsp;&nbsp;</span>EDA</a></span><ul class=\"toc-item\"><li><span><a href=\"#Orders-table\" data-toc-modified-id=\"Orders-table-1.1.1\"><span class=\"toc-item-num\">1.1.1&nbsp;&nbsp;</span>Orders table</a></span></li><li><span><a href=\"#Order_products-table\" data-toc-modified-id=\"Order_products-table-1.1.2\"><span class=\"toc-item-num\">1.1.2&nbsp;&nbsp;</span>Order_products table</a></span></li><li><span><a href=\"#Products-table\" data-toc-modified-id=\"Products-table-1.1.3\"><span class=\"toc-item-num\">1.1.3&nbsp;&nbsp;</span>Products table</a></span></li><li><span><a href=\"#Aisles-table\" data-toc-modified-id=\"Aisles-table-1.1.4\"><span class=\"toc-item-num\">1.1.4&nbsp;&nbsp;</span>Aisles table</a></span></li><li><span><a href=\"#Departments-table\" data-toc-modified-id=\"Departments-table-1.1.5\"><span class=\"toc-item-num\">1.1.5&nbsp;&nbsp;</span>Departments table</a></span></li></ul></li></ul></li><li><span><a href=\"#Cleaning\" data-toc-modified-id=\"Cleaning-2\"><span class=\"toc-item-num\">2&nbsp;&nbsp;</span>Cleaning</a></span></li><li><span><a href=\"#Analyses\" data-toc-modified-id=\"Analyses-3\"><span class=\"toc-item-num\">3&nbsp;&nbsp;</span>Analyses</a></span><ul class=\"toc-item\"><li><span><a href=\"#Quick-and-easy\" data-toc-modified-id=\"Quick-and-easy-3.1\"><span class=\"toc-item-num\">3.1&nbsp;&nbsp;</span>Quick and easy</a></span><ul class=\"toc-item\"><li><span><a href=\"#Count-of-unique-users\" data-toc-modified-id=\"Count-of-unique-users-3.1.1\"><span class=\"toc-item-num\">3.1.1&nbsp;&nbsp;</span>Count of unique users</a></span></li><li><span><a href=\"#Busiest-day-of-week\" data-toc-modified-id=\"Busiest-day-of-week-3.1.2\"><span class=\"toc-item-num\">3.1.2&nbsp;&nbsp;</span>Busiest day of week</a></span></li><li><span><a href=\"#Busiest-time-of-day\" data-toc-modified-id=\"Busiest-time-of-day-3.1.3\"><span class=\"toc-item-num\">3.1.3&nbsp;&nbsp;</span>Busiest time of day</a></span></li><li><span><a href=\"#Average-size-of-order-(also-broken-down-by-day/time)\" data-toc-modified-id=\"Average-size-of-order-(also-broken-down-by-day/time)-3.1.4\"><span class=\"toc-item-num\">3.1.4&nbsp;&nbsp;</span>Average size of order (also broken down by day/time)</a></span></li><li><span><a href=\"#Average-%-of-reordered-products-per-order-and-overall\" data-toc-modified-id=\"Average-%-of-reordered-products-per-order-and-overall-3.1.5\"><span class=\"toc-item-num\">3.1.5&nbsp;&nbsp;</span>Average % of reordered products per order and overall</a></span></li><li><span><a href=\"#Most-popular-items-(also-aggregated-by-aisle/dept)\" data-toc-modified-id=\"Most-popular-items-(also-aggregated-by-aisle/dept)-3.1.6\"><span class=\"toc-item-num\">3.1.6&nbsp;&nbsp;</span>Most popular items (also aggregated by aisle/dept)</a></span></li><li><span><a href=\"#Busiest-aisle/dept\" data-toc-modified-id=\"Busiest-aisle/dept-3.1.7\"><span class=\"toc-item-num\">3.1.7&nbsp;&nbsp;</span>Busiest aisle/dept</a></span></li><li><span><a href=\"#Top-X%-of-users\" data-toc-modified-id=\"Top-X%-of-users-3.1.8\"><span class=\"toc-item-num\">3.1.8&nbsp;&nbsp;</span>Top X% of users</a></span></li></ul></li><li><span><a href=\"#Hypothesis-tests\" data-toc-modified-id=\"Hypothesis-tests-3.2\"><span class=\"toc-item-num\">3.2&nbsp;&nbsp;</span>Hypothesis tests</a></span></li><li><span><a href=\"#Clustering\" data-toc-modified-id=\"Clustering-3.3\"><span class=\"toc-item-num\">3.3&nbsp;&nbsp;</span>Clustering</a></span><ul class=\"toc-item\"><li><span><a href=\"#Calculate-RFM-values\" data-toc-modified-id=\"Calculate-RFM-values-3.3.1\"><span class=\"toc-item-num\">3.3.1&nbsp;&nbsp;</span>Calculate RFM values</a></span></li><li><span><a href=\"#Test-various-numbers-of-clusters-(elbow-plot)\" data-toc-modified-id=\"Test-various-numbers-of-clusters-(elbow-plot)-3.3.2\"><span class=\"toc-item-num\">3.3.2&nbsp;&nbsp;</span>Test various numbers of clusters (elbow plot)</a></span></li><li><span><a href=\"#Calculate-best-#-clusters-+/--1\" data-toc-modified-id=\"Calculate-best-#-clusters-+/--1-3.3.3\"><span class=\"toc-item-num\">3.3.3&nbsp;&nbsp;</span>Calculate best # clusters +/- 1</a></span></li><li><span><a href=\"#Visualize-clusters-with-t-SNE\" data-toc-modified-id=\"Visualize-clusters-with-t-SNE-3.3.4\"><span class=\"toc-item-num\">3.3.4&nbsp;&nbsp;</span>Visualize clusters with t-SNE</a></span></li></ul></li></ul></li><li><span><a href=\"#Recommendations\" data-toc-modified-id=\"Recommendations-4\"><span class=\"toc-item-num\">4&nbsp;&nbsp;</span>Recommendations</a></span></li></ul></div>"
   ]
  },
  {
   "cell_type": "markdown",
   "metadata": {},
   "source": [
    "# Introduction"
   ]
  },
  {
   "cell_type": "code",
   "execution_count": 1,
   "metadata": {
    "ExecuteTime": {
     "end_time": "2020-03-12T15:54:12.860143Z",
     "start_time": "2020-03-12T15:54:08.996513Z"
    }
   },
   "outputs": [],
   "source": [
    "# Import needed packages\n",
    "import pandas as pd\n",
    "import numpy as np\n",
    "import matplotlib.pyplot as plt\n",
    "%matplotlib inline\n",
    "import seaborn as sns\n",
    "sns.set_context('talk')\n",
    "import sqlite3"
   ]
  },
  {
   "cell_type": "code",
   "execution_count": 2,
   "metadata": {
    "ExecuteTime": {
     "end_time": "2020-03-12T15:54:12.868667Z",
     "start_time": "2020-03-12T15:54:12.863883Z"
    }
   },
   "outputs": [],
   "source": [
    "# Set up connection to the database\n",
    "conn = sqlite3.connect('instacart.db')\n",
    "cur = conn.cursor()"
   ]
  },
  {
   "cell_type": "markdown",
   "metadata": {},
   "source": [
    "## EDA"
   ]
  },
  {
   "cell_type": "markdown",
   "metadata": {},
   "source": [
    "### Orders table"
   ]
  },
  {
   "cell_type": "code",
   "execution_count": 3,
   "metadata": {
    "ExecuteTime": {
     "end_time": "2020-03-12T15:54:20.130316Z",
     "start_time": "2020-03-12T15:54:17.611562Z"
    }
   },
   "outputs": [
    {
     "data": {
      "text/html": [
       "<div>\n",
       "<style scoped>\n",
       "    .dataframe tbody tr th:only-of-type {\n",
       "        vertical-align: middle;\n",
       "    }\n",
       "\n",
       "    .dataframe tbody tr th {\n",
       "        vertical-align: top;\n",
       "    }\n",
       "\n",
       "    .dataframe thead th {\n",
       "        text-align: right;\n",
       "    }\n",
       "</style>\n",
       "<table border=\"1\" class=\"dataframe\">\n",
       "  <thead>\n",
       "    <tr style=\"text-align: right;\">\n",
       "      <th></th>\n",
       "      <th>order_id</th>\n",
       "      <th>user_id</th>\n",
       "      <th>order_number</th>\n",
       "      <th>order_dow</th>\n",
       "      <th>order_hour_of_day</th>\n",
       "      <th>days_since_prior_order</th>\n",
       "    </tr>\n",
       "  </thead>\n",
       "  <tbody>\n",
       "    <tr>\n",
       "      <td>0</td>\n",
       "      <td>2168274</td>\n",
       "      <td>2</td>\n",
       "      <td>1</td>\n",
       "      <td>2</td>\n",
       "      <td>11</td>\n",
       "      <td>NaN</td>\n",
       "    </tr>\n",
       "    <tr>\n",
       "      <td>1</td>\n",
       "      <td>1501582</td>\n",
       "      <td>2</td>\n",
       "      <td>2</td>\n",
       "      <td>5</td>\n",
       "      <td>10</td>\n",
       "      <td>10.0</td>\n",
       "    </tr>\n",
       "    <tr>\n",
       "      <td>2</td>\n",
       "      <td>1901567</td>\n",
       "      <td>2</td>\n",
       "      <td>3</td>\n",
       "      <td>1</td>\n",
       "      <td>10</td>\n",
       "      <td>3.0</td>\n",
       "    </tr>\n",
       "    <tr>\n",
       "      <td>3</td>\n",
       "      <td>738281</td>\n",
       "      <td>2</td>\n",
       "      <td>4</td>\n",
       "      <td>2</td>\n",
       "      <td>10</td>\n",
       "      <td>8.0</td>\n",
       "    </tr>\n",
       "    <tr>\n",
       "      <td>4</td>\n",
       "      <td>1673511</td>\n",
       "      <td>2</td>\n",
       "      <td>5</td>\n",
       "      <td>3</td>\n",
       "      <td>11</td>\n",
       "      <td>8.0</td>\n",
       "    </tr>\n",
       "  </tbody>\n",
       "</table>\n",
       "</div>"
      ],
      "text/plain": [
       "   order_id  user_id  order_number  order_dow  order_hour_of_day  \\\n",
       "0   2168274        2             1          2                 11   \n",
       "1   1501582        2             2          5                 10   \n",
       "2   1901567        2             3          1                 10   \n",
       "3    738281        2             4          2                 10   \n",
       "4   1673511        2             5          3                 11   \n",
       "\n",
       "   days_since_prior_order  \n",
       "0                     NaN  \n",
       "1                    10.0  \n",
       "2                     3.0  \n",
       "3                     8.0  \n",
       "4                     8.0  "
      ]
     },
     "execution_count": 3,
     "metadata": {},
     "output_type": "execute_result"
    }
   ],
   "source": [
    "# Query the database and load the data\n",
    "cur.execute(\"\"\"\n",
    "    SELECT *\n",
    "    FROM orders\n",
    "            ;\"\"\")\n",
    "orders = pd.DataFrame(cur.fetchall())\n",
    "orders.columns = [x[0] for x in cur.description]\n",
    "orders.head()"
   ]
  },
  {
   "cell_type": "code",
   "execution_count": 4,
   "metadata": {
    "ExecuteTime": {
     "end_time": "2020-03-12T15:54:29.865091Z",
     "start_time": "2020-03-12T15:54:29.683007Z"
    },
    "scrolled": false
   },
   "outputs": [
    {
     "data": {
      "text/html": [
       "<div>\n",
       "<style scoped>\n",
       "    .dataframe tbody tr th:only-of-type {\n",
       "        vertical-align: middle;\n",
       "    }\n",
       "\n",
       "    .dataframe tbody tr th {\n",
       "        vertical-align: top;\n",
       "    }\n",
       "\n",
       "    .dataframe thead th {\n",
       "        text-align: right;\n",
       "    }\n",
       "</style>\n",
       "<table border=\"1\" class=\"dataframe\">\n",
       "  <thead>\n",
       "    <tr style=\"text-align: right;\">\n",
       "      <th></th>\n",
       "      <th>order_id</th>\n",
       "      <th>user_id</th>\n",
       "      <th>order_number</th>\n",
       "      <th>order_dow</th>\n",
       "      <th>order_hour_of_day</th>\n",
       "      <th>days_since_prior_order</th>\n",
       "    </tr>\n",
       "  </thead>\n",
       "  <tbody>\n",
       "    <tr>\n",
       "      <td>count</td>\n",
       "      <td>4.147720e+05</td>\n",
       "      <td>414772.000000</td>\n",
       "      <td>414772.000000</td>\n",
       "      <td>414772.000000</td>\n",
       "      <td>414772.000000</td>\n",
       "      <td>389772.000000</td>\n",
       "    </tr>\n",
       "    <tr>\n",
       "      <td>mean</td>\n",
       "      <td>1.709159e+06</td>\n",
       "      <td>102336.054370</td>\n",
       "      <td>17.245438</td>\n",
       "      <td>2.771788</td>\n",
       "      <td>13.474299</td>\n",
       "      <td>11.109248</td>\n",
       "    </tr>\n",
       "    <tr>\n",
       "      <td>std</td>\n",
       "      <td>9.881692e+05</td>\n",
       "      <td>59647.079832</td>\n",
       "      <td>17.801470</td>\n",
       "      <td>2.046092</td>\n",
       "      <td>4.228616</td>\n",
       "      <td>9.225167</td>\n",
       "    </tr>\n",
       "    <tr>\n",
       "      <td>min</td>\n",
       "      <td>2.000000e+00</td>\n",
       "      <td>2.000000</td>\n",
       "      <td>1.000000</td>\n",
       "      <td>0.000000</td>\n",
       "      <td>0.000000</td>\n",
       "      <td>0.000000</td>\n",
       "    </tr>\n",
       "    <tr>\n",
       "      <td>25%</td>\n",
       "      <td>8.528778e+05</td>\n",
       "      <td>50325.000000</td>\n",
       "      <td>5.000000</td>\n",
       "      <td>1.000000</td>\n",
       "      <td>10.000000</td>\n",
       "      <td>4.000000</td>\n",
       "    </tr>\n",
       "    <tr>\n",
       "      <td>50%</td>\n",
       "      <td>1.709380e+06</td>\n",
       "      <td>101745.000000</td>\n",
       "      <td>11.000000</td>\n",
       "      <td>3.000000</td>\n",
       "      <td>13.000000</td>\n",
       "      <td>7.000000</td>\n",
       "    </tr>\n",
       "    <tr>\n",
       "      <td>75%</td>\n",
       "      <td>2.564113e+06</td>\n",
       "      <td>154166.000000</td>\n",
       "      <td>24.000000</td>\n",
       "      <td>5.000000</td>\n",
       "      <td>16.000000</td>\n",
       "      <td>15.000000</td>\n",
       "    </tr>\n",
       "    <tr>\n",
       "      <td>max</td>\n",
       "      <td>3.421073e+06</td>\n",
       "      <td>206206.000000</td>\n",
       "      <td>100.000000</td>\n",
       "      <td>6.000000</td>\n",
       "      <td>23.000000</td>\n",
       "      <td>30.000000</td>\n",
       "    </tr>\n",
       "  </tbody>\n",
       "</table>\n",
       "</div>"
      ],
      "text/plain": [
       "           order_id        user_id   order_number      order_dow  \\\n",
       "count  4.147720e+05  414772.000000  414772.000000  414772.000000   \n",
       "mean   1.709159e+06  102336.054370      17.245438       2.771788   \n",
       "std    9.881692e+05   59647.079832      17.801470       2.046092   \n",
       "min    2.000000e+00       2.000000       1.000000       0.000000   \n",
       "25%    8.528778e+05   50325.000000       5.000000       1.000000   \n",
       "50%    1.709380e+06  101745.000000      11.000000       3.000000   \n",
       "75%    2.564113e+06  154166.000000      24.000000       5.000000   \n",
       "max    3.421073e+06  206206.000000     100.000000       6.000000   \n",
       "\n",
       "       order_hour_of_day  days_since_prior_order  \n",
       "count      414772.000000           389772.000000  \n",
       "mean           13.474299               11.109248  \n",
       "std             4.228616                9.225167  \n",
       "min             0.000000                0.000000  \n",
       "25%            10.000000                4.000000  \n",
       "50%            13.000000                7.000000  \n",
       "75%            16.000000               15.000000  \n",
       "max            23.000000               30.000000  "
      ]
     },
     "execution_count": 4,
     "metadata": {},
     "output_type": "execute_result"
    }
   ],
   "source": [
    "orders.describe()"
   ]
  },
  {
   "cell_type": "code",
   "execution_count": 8,
   "metadata": {
    "ExecuteTime": {
     "end_time": "2020-03-12T16:01:24.564512Z",
     "start_time": "2020-03-12T16:01:24.542847Z"
    }
   },
   "outputs": [
    {
     "name": "stdout",
     "output_type": "stream",
     "text": [
      "<class 'pandas.core.frame.DataFrame'>\n",
      "RangeIndex: 414772 entries, 0 to 414771\n",
      "Data columns (total 6 columns):\n",
      "order_id                  414772 non-null int64\n",
      "user_id                   414772 non-null int64\n",
      "order_number              414772 non-null int64\n",
      "order_dow                 414772 non-null int64\n",
      "order_hour_of_day         414772 non-null int64\n",
      "days_since_prior_order    389772 non-null float64\n",
      "dtypes: float64(1), int64(5)\n",
      "memory usage: 19.0 MB\n"
     ]
    }
   ],
   "source": [
    "orders.info()"
   ]
  },
  {
   "cell_type": "code",
   "execution_count": 7,
   "metadata": {
    "ExecuteTime": {
     "end_time": "2020-03-12T15:56:27.353420Z",
     "start_time": "2020-03-12T15:56:26.224488Z"
    }
   },
   "outputs": [
    {
     "name": "stderr",
     "output_type": "stream",
     "text": [
      "/Users/jennykreiger/anaconda3/envs/learn-env/lib/python3.6/site-packages/numpy/lib/histograms.py:824: RuntimeWarning: invalid value encountered in greater_equal\n",
      "  keep = (tmp_a >= first_edge)\n",
      "/Users/jennykreiger/anaconda3/envs/learn-env/lib/python3.6/site-packages/numpy/lib/histograms.py:825: RuntimeWarning: invalid value encountered in less_equal\n",
      "  keep &= (tmp_a <= last_edge)\n"
     ]
    },
    {
     "data": {
      "image/png": "[encoded data removed]",
      "text/plain": [
       "<Figure size 864x720 with 4 Axes>"
      ]
     },
     "metadata": {
      "needs_background": "light"
     },
     "output_type": "display_data"
    }
   ],
   "source": [
    "fig, axes = plt.subplots(2, 2, figsize=(12,10))\n",
    "\n",
    "ax0 = axes[0,0]\n",
    "ax0.hist(orders.user_id.value_counts(), bins=100)\n",
    "ax0.set_title('Orders Per User')\n",
    "ax0.set_xlabel('Orders')\n",
    "ax0.set_ylabel('Users')\n",
    "\n",
    "ax1 = axes[0,1]\n",
    "ax1.hist(orders.order_dow, bins=7)\n",
    "ax1.set_title('Order Day of Week')\n",
    "ax1.set_xlabel('Day of Week')\n",
    "ax1.set_ylabel('Orders')\n",
    "\n",
    "ax2 = axes[1,0]\n",
    "ax2.hist(orders.order_hour_of_day, bins=24)\n",
    "ax2.set_title('Order Hour of Day')\n",
    "ax2.set_xlabel('Hour (24-Hour Clock)')\n",
    "ax2.set_ylabel('Orders')\n",
    "\n",
    "ax3 = axes[1,1]\n",
    "ax3.hist(orders.days_since_prior_order, bins=30)\n",
    "ax3.set_title('Days Since Prior Order')\n",
    "ax3.set_xlabel('Lag in Days')\n",
    "ax3.set_ylabel('Orders')\n",
    "\n",
    "plt.tight_layout()\n",
    "plt.show();\n"
   ]
  },
  {
   "cell_type": "markdown",
   "metadata": {},
   "source": [
    "### Order_products table"
   ]
  },
  {
   "cell_type": "code",
   "execution_count": 27,
   "metadata": {
    "ExecuteTime": {
     "end_time": "2020-03-11T15:41:05.480615Z",
     "start_time": "2020-03-11T15:41:05.434375Z"
    },
    "scrolled": false
   },
   "outputs": [
    {
     "data": {
      "text/html": [
       "<div>\n",
       "<style scoped>\n",
       "    .dataframe tbody tr th:only-of-type {\n",
       "        vertical-align: middle;\n",
       "    }\n",
       "\n",
       "    .dataframe tbody tr th {\n",
       "        vertical-align: top;\n",
       "    }\n",
       "\n",
       "    .dataframe thead th {\n",
       "        text-align: right;\n",
       "    }\n",
       "</style>\n",
       "<table border=\"1\" class=\"dataframe\">\n",
       "  <thead>\n",
       "    <tr style=\"text-align: right;\">\n",
       "      <th></th>\n",
       "      <th>order_id</th>\n",
       "      <th>product_id</th>\n",
       "      <th>add_to_cart_order</th>\n",
       "      <th>reordered</th>\n",
       "    </tr>\n",
       "  </thead>\n",
       "  <tbody>\n",
       "    <tr>\n",
       "      <td>0</td>\n",
       "      <td>2</td>\n",
       "      <td>33120</td>\n",
       "      <td>1</td>\n",
       "      <td>1</td>\n",
       "    </tr>\n",
       "    <tr>\n",
       "      <td>1</td>\n",
       "      <td>2</td>\n",
       "      <td>28985</td>\n",
       "      <td>2</td>\n",
       "      <td>1</td>\n",
       "    </tr>\n",
       "    <tr>\n",
       "      <td>2</td>\n",
       "      <td>2</td>\n",
       "      <td>9327</td>\n",
       "      <td>3</td>\n",
       "      <td>0</td>\n",
       "    </tr>\n",
       "    <tr>\n",
       "      <td>3</td>\n",
       "      <td>2</td>\n",
       "      <td>45918</td>\n",
       "      <td>4</td>\n",
       "      <td>1</td>\n",
       "    </tr>\n",
       "    <tr>\n",
       "      <td>4</td>\n",
       "      <td>2</td>\n",
       "      <td>30035</td>\n",
       "      <td>5</td>\n",
       "      <td>0</td>\n",
       "    </tr>\n",
       "  </tbody>\n",
       "</table>\n",
       "</div>"
      ],
      "text/plain": [
       "   order_id  product_id  add_to_cart_order  reordered\n",
       "0         2       33120                  1          1\n",
       "1         2       28985                  2          1\n",
       "2         2        9327                  3          0\n",
       "3         2       45918                  4          1\n",
       "4         2       30035                  5          0"
      ]
     },
     "execution_count": 27,
     "metadata": {},
     "output_type": "execute_result"
    }
   ],
   "source": [
    "# Query the database and load the data\n",
    "cur.execute(\"\"\"\n",
    "    SELECT *\n",
    "    FROM order_products\n",
    "    LIMIT 10000\n",
    "            ;\"\"\")\n",
    "order_products = pd.DataFrame(cur.fetchall())\n",
    "order_products.columns = [x[0] for x in cur.description]\n",
    "order_products.head()"
   ]
  },
  {
   "cell_type": "code",
   "execution_count": 34,
   "metadata": {
    "ExecuteTime": {
     "end_time": "2020-03-11T16:01:38.411872Z",
     "start_time": "2020-03-11T16:01:38.220089Z"
    },
    "scrolled": true
   },
   "outputs": [
    {
     "data": {
      "image/png": "[encoded data removed]",
      "text/plain": [
       "<Figure size 432x288 with 1 Axes>"
      ]
     },
     "metadata": {
      "needs_background": "light"
     },
     "output_type": "display_data"
    }
   ],
   "source": [
    "plt.hist(order_products.order_id.value_counts());"
   ]
  },
  {
   "cell_type": "code",
   "execution_count": 37,
   "metadata": {
    "ExecuteTime": {
     "end_time": "2020-03-11T16:03:11.806060Z",
     "start_time": "2020-03-11T16:03:11.599676Z"
    }
   },
   "outputs": [
    {
     "data": {
      "image/png": "[encoded data removed]",
      "text/plain": [
       "<Figure size 432x288 with 1 Axes>"
      ]
     },
     "metadata": {
      "needs_background": "light"
     },
     "output_type": "display_data"
    }
   ],
   "source": [
    "plt.hist(order_products.groupby('order_id')['reordered'].mean());"
   ]
  },
  {
   "cell_type": "markdown",
   "metadata": {
    "heading_collapsed": true
   },
   "source": [
    "### Products table"
   ]
  },
  {
   "cell_type": "code",
   "execution_count": 28,
   "metadata": {
    "ExecuteTime": {
     "end_time": "2020-03-11T15:41:21.559203Z",
     "start_time": "2020-03-11T15:41:21.369881Z"
    },
    "hidden": true
   },
   "outputs": [
    {
     "data": {
      "text/html": [
       "<div>\n",
       "<style scoped>\n",
       "    .dataframe tbody tr th:only-of-type {\n",
       "        vertical-align: middle;\n",
       "    }\n",
       "\n",
       "    .dataframe tbody tr th {\n",
       "        vertical-align: top;\n",
       "    }\n",
       "\n",
       "    .dataframe thead th {\n",
       "        text-align: right;\n",
       "    }\n",
       "</style>\n",
       "<table border=\"1\" class=\"dataframe\">\n",
       "  <thead>\n",
       "    <tr style=\"text-align: right;\">\n",
       "      <th></th>\n",
       "      <th>index</th>\n",
       "      <th>product_id</th>\n",
       "      <th>product_name</th>\n",
       "      <th>aisle_id</th>\n",
       "      <th>department_id</th>\n",
       "    </tr>\n",
       "  </thead>\n",
       "  <tbody>\n",
       "    <tr>\n",
       "      <td>0</td>\n",
       "      <td>0</td>\n",
       "      <td>1</td>\n",
       "      <td>Chocolate Sandwich Cookies</td>\n",
       "      <td>61</td>\n",
       "      <td>19</td>\n",
       "    </tr>\n",
       "    <tr>\n",
       "      <td>1</td>\n",
       "      <td>1</td>\n",
       "      <td>2</td>\n",
       "      <td>All-Seasons Salt</td>\n",
       "      <td>104</td>\n",
       "      <td>13</td>\n",
       "    </tr>\n",
       "    <tr>\n",
       "      <td>2</td>\n",
       "      <td>2</td>\n",
       "      <td>3</td>\n",
       "      <td>Robust Golden Unsweetened Oolong Tea</td>\n",
       "      <td>94</td>\n",
       "      <td>7</td>\n",
       "    </tr>\n",
       "    <tr>\n",
       "      <td>3</td>\n",
       "      <td>3</td>\n",
       "      <td>4</td>\n",
       "      <td>Smart Ones Classic Favorites Mini Rigatoni Wit...</td>\n",
       "      <td>38</td>\n",
       "      <td>1</td>\n",
       "    </tr>\n",
       "    <tr>\n",
       "      <td>4</td>\n",
       "      <td>4</td>\n",
       "      <td>5</td>\n",
       "      <td>Green Chile Anytime Sauce</td>\n",
       "      <td>5</td>\n",
       "      <td>13</td>\n",
       "    </tr>\n",
       "  </tbody>\n",
       "</table>\n",
       "</div>"
      ],
      "text/plain": [
       "   index  product_id                                       product_name  \\\n",
       "0      0           1                         Chocolate Sandwich Cookies   \n",
       "1      1           2                                   All-Seasons Salt   \n",
       "2      2           3               Robust Golden Unsweetened Oolong Tea   \n",
       "3      3           4  Smart Ones Classic Favorites Mini Rigatoni Wit...   \n",
       "4      4           5                          Green Chile Anytime Sauce   \n",
       "\n",
       "   aisle_id  department_id  \n",
       "0        61             19  \n",
       "1       104             13  \n",
       "2        94              7  \n",
       "3        38              1  \n",
       "4         5             13  "
      ]
     },
     "execution_count": 28,
     "metadata": {},
     "output_type": "execute_result"
    }
   ],
   "source": [
    "# Query the database and load the data\n",
    "cur.execute(\"\"\"\n",
    "    SELECT *\n",
    "    FROM products\n",
    "            ;\"\"\")\n",
    "products = pd.DataFrame(cur.fetchall())\n",
    "products.columns = [x[0] for x in cur.description]\n",
    "products.head()"
   ]
  },
  {
   "cell_type": "code",
   "execution_count": 42,
   "metadata": {
    "ExecuteTime": {
     "end_time": "2020-03-11T16:12:49.856770Z",
     "start_time": "2020-03-11T16:12:49.498711Z"
    },
    "hidden": true,
    "scrolled": true
   },
   "outputs": [
    {
     "data": {
      "image/png": "[encoded data removed]",
      "text/plain": [
       "<Figure size 864x288 with 2 Axes>"
      ]
     },
     "metadata": {
      "needs_background": "light"
     },
     "output_type": "display_data"
    }
   ],
   "source": [
    "fig, axes = plt.subplots(1, 2, figsize=(12,4))\n",
    "\n",
    "ax0 = axes[0]\n",
    "ax0.hist(products.aisle_id)\n",
    "ax0.set_title('Products in Aisles')\n",
    "\n",
    "ax1 = axes[1]\n",
    "ax1.hist(products.department_id)\n",
    "ax1.set_title('Products in Departments')\n",
    "\n",
    "plt.tight_layout()\n",
    "plt.show();"
   ]
  },
  {
   "cell_type": "code",
   "execution_count": 41,
   "metadata": {
    "ExecuteTime": {
     "end_time": "2020-03-11T16:11:27.080800Z",
     "start_time": "2020-03-11T16:11:27.055612Z"
    },
    "hidden": true
   },
   "outputs": [
    {
     "name": "stdout",
     "output_type": "stream",
     "text": [
      "<class 'pandas.core.frame.DataFrame'>\n",
      "RangeIndex: 49688 entries, 0 to 49687\n",
      "Data columns (total 5 columns):\n",
      "index            49688 non-null int64\n",
      "product_id       49688 non-null int64\n",
      "product_name     49688 non-null object\n",
      "aisle_id         49688 non-null int64\n",
      "department_id    49688 non-null int64\n",
      "dtypes: int64(4), object(1)\n",
      "memory usage: 1.9+ MB\n"
     ]
    }
   ],
   "source": [
    "products.info()"
   ]
  },
  {
   "cell_type": "markdown",
   "metadata": {
    "hidden": true
   },
   "source": [
    "Aside from the questions below about number of products per aisle or dept, what else can we ask here? "
   ]
  },
  {
   "cell_type": "markdown",
   "metadata": {
    "heading_collapsed": true
   },
   "source": [
    "### Aisles table"
   ]
  },
  {
   "cell_type": "code",
   "execution_count": 30,
   "metadata": {
    "ExecuteTime": {
     "end_time": "2020-03-11T15:42:10.306660Z",
     "start_time": "2020-03-11T15:42:10.292288Z"
    },
    "hidden": true,
    "scrolled": false
   },
   "outputs": [
    {
     "data": {
      "text/html": [
       "<div>\n",
       "<style scoped>\n",
       "    .dataframe tbody tr th:only-of-type {\n",
       "        vertical-align: middle;\n",
       "    }\n",
       "\n",
       "    .dataframe tbody tr th {\n",
       "        vertical-align: top;\n",
       "    }\n",
       "\n",
       "    .dataframe thead th {\n",
       "        text-align: right;\n",
       "    }\n",
       "</style>\n",
       "<table border=\"1\" class=\"dataframe\">\n",
       "  <thead>\n",
       "    <tr style=\"text-align: right;\">\n",
       "      <th></th>\n",
       "      <th>index</th>\n",
       "      <th>aisle_id</th>\n",
       "      <th>aisle</th>\n",
       "    </tr>\n",
       "  </thead>\n",
       "  <tbody>\n",
       "    <tr>\n",
       "      <td>0</td>\n",
       "      <td>0</td>\n",
       "      <td>1</td>\n",
       "      <td>prepared soups salads</td>\n",
       "    </tr>\n",
       "    <tr>\n",
       "      <td>1</td>\n",
       "      <td>1</td>\n",
       "      <td>2</td>\n",
       "      <td>specialty cheeses</td>\n",
       "    </tr>\n",
       "    <tr>\n",
       "      <td>2</td>\n",
       "      <td>2</td>\n",
       "      <td>3</td>\n",
       "      <td>energy granola bars</td>\n",
       "    </tr>\n",
       "    <tr>\n",
       "      <td>3</td>\n",
       "      <td>3</td>\n",
       "      <td>4</td>\n",
       "      <td>instant foods</td>\n",
       "    </tr>\n",
       "    <tr>\n",
       "      <td>4</td>\n",
       "      <td>4</td>\n",
       "      <td>5</td>\n",
       "      <td>marinades meat preparation</td>\n",
       "    </tr>\n",
       "  </tbody>\n",
       "</table>\n",
       "</div>"
      ],
      "text/plain": [
       "   index  aisle_id                       aisle\n",
       "0      0         1       prepared soups salads\n",
       "1      1         2           specialty cheeses\n",
       "2      2         3         energy granola bars\n",
       "3      3         4               instant foods\n",
       "4      4         5  marinades meat preparation"
      ]
     },
     "execution_count": 30,
     "metadata": {},
     "output_type": "execute_result"
    }
   ],
   "source": [
    "# Query the database and load the data\n",
    "cur.execute(\"\"\"\n",
    "    SELECT *\n",
    "    FROM aisles\n",
    "            ;\"\"\")\n",
    "aisles = pd.DataFrame(cur.fetchall())\n",
    "aisles.columns = [x[0] for x in cur.description]\n",
    "aisles.head()"
   ]
  },
  {
   "cell_type": "code",
   "execution_count": 43,
   "metadata": {
    "ExecuteTime": {
     "end_time": "2020-03-11T16:13:52.487521Z",
     "start_time": "2020-03-11T16:13:52.468215Z"
    },
    "hidden": true
   },
   "outputs": [
    {
     "data": {
      "text/html": [
       "<div>\n",
       "<style scoped>\n",
       "    .dataframe tbody tr th:only-of-type {\n",
       "        vertical-align: middle;\n",
       "    }\n",
       "\n",
       "    .dataframe tbody tr th {\n",
       "        vertical-align: top;\n",
       "    }\n",
       "\n",
       "    .dataframe thead th {\n",
       "        text-align: right;\n",
       "    }\n",
       "</style>\n",
       "<table border=\"1\" class=\"dataframe\">\n",
       "  <thead>\n",
       "    <tr style=\"text-align: right;\">\n",
       "      <th></th>\n",
       "      <th>index</th>\n",
       "      <th>aisle_id</th>\n",
       "      <th>aisle</th>\n",
       "    </tr>\n",
       "  </thead>\n",
       "  <tbody>\n",
       "    <tr>\n",
       "      <td>99</td>\n",
       "      <td>99</td>\n",
       "      <td>100</td>\n",
       "      <td>missing</td>\n",
       "    </tr>\n",
       "  </tbody>\n",
       "</table>\n",
       "</div>"
      ],
      "text/plain": [
       "    index  aisle_id    aisle\n",
       "99     99       100  missing"
      ]
     },
     "execution_count": 43,
     "metadata": {},
     "output_type": "execute_result"
    }
   ],
   "source": [
    "aisles[aisles['aisle_id'] == 100]"
   ]
  },
  {
   "cell_type": "code",
   "execution_count": 40,
   "metadata": {
    "ExecuteTime": {
     "end_time": "2020-03-11T16:09:30.551916Z",
     "start_time": "2020-03-11T16:09:30.538468Z"
    },
    "hidden": true,
    "scrolled": false
   },
   "outputs": [
    {
     "name": "stdout",
     "output_type": "stream",
     "text": [
      "<class 'pandas.core.frame.DataFrame'>\n",
      "RangeIndex: 134 entries, 0 to 133\n",
      "Data columns (total 3 columns):\n",
      "index       134 non-null int64\n",
      "aisle_id    134 non-null int64\n",
      "aisle       134 non-null object\n",
      "dtypes: int64(2), object(1)\n",
      "memory usage: 3.3+ KB\n"
     ]
    }
   ],
   "source": [
    "aisles.info()"
   ]
  },
  {
   "cell_type": "code",
   "execution_count": 44,
   "metadata": {
    "ExecuteTime": {
     "end_time": "2020-03-11T16:14:26.297576Z",
     "start_time": "2020-03-11T16:14:26.285564Z"
    },
    "hidden": true,
    "scrolled": true
   },
   "outputs": [
    {
     "data": {
      "text/plain": [
       "['prepared soups salads',\n",
       " 'specialty cheeses',\n",
       " 'energy granola bars',\n",
       " 'instant foods',\n",
       " 'marinades meat preparation',\n",
       " 'other',\n",
       " 'packaged meat',\n",
       " 'bakery desserts',\n",
       " 'pasta sauce',\n",
       " 'kitchen supplies',\n",
       " 'cold flu allergy',\n",
       " 'fresh pasta',\n",
       " 'prepared meals',\n",
       " 'tofu meat alternatives',\n",
       " 'packaged seafood',\n",
       " 'fresh herbs',\n",
       " 'baking ingredients',\n",
       " 'bulk dried fruits vegetables',\n",
       " 'oils vinegars',\n",
       " 'oral hygiene',\n",
       " 'packaged cheese',\n",
       " 'hair care',\n",
       " 'popcorn jerky',\n",
       " 'fresh fruits',\n",
       " 'soap',\n",
       " 'coffee',\n",
       " 'beers coolers',\n",
       " 'red wines',\n",
       " 'honeys syrups nectars',\n",
       " 'latino foods',\n",
       " 'refrigerated',\n",
       " 'packaged produce',\n",
       " 'kosher foods',\n",
       " 'frozen meat seafood',\n",
       " 'poultry counter',\n",
       " 'butter',\n",
       " 'ice cream ice',\n",
       " 'frozen meals',\n",
       " 'seafood counter',\n",
       " 'dog food care',\n",
       " 'cat food care',\n",
       " 'frozen vegan vegetarian',\n",
       " 'buns rolls',\n",
       " 'eye ear care',\n",
       " 'candy chocolate',\n",
       " 'mint gum',\n",
       " 'vitamins supplements',\n",
       " 'breakfast bars pastries',\n",
       " 'packaged poultry',\n",
       " 'fruit vegetable snacks',\n",
       " 'preserved dips spreads',\n",
       " 'frozen breakfast',\n",
       " 'cream',\n",
       " 'paper goods',\n",
       " 'shave needs',\n",
       " 'diapers wipes',\n",
       " 'granola',\n",
       " 'frozen breads doughs',\n",
       " 'canned meals beans',\n",
       " 'trash bags liners',\n",
       " 'cookies cakes',\n",
       " 'white wines',\n",
       " 'grains rice dried goods',\n",
       " 'energy sports drinks',\n",
       " 'protein meal replacements',\n",
       " 'asian foods',\n",
       " 'fresh dips tapenades',\n",
       " 'bulk grains rice dried goods',\n",
       " 'soup broth bouillon',\n",
       " 'digestion',\n",
       " 'refrigerated pudding desserts',\n",
       " 'condiments',\n",
       " 'facial care',\n",
       " 'dish detergents',\n",
       " 'laundry',\n",
       " 'indian foods',\n",
       " 'soft drinks',\n",
       " 'crackers',\n",
       " 'frozen pizza',\n",
       " 'deodorants',\n",
       " 'canned jarred vegetables',\n",
       " 'baby accessories',\n",
       " 'fresh vegetables',\n",
       " 'milk',\n",
       " 'food storage',\n",
       " 'eggs',\n",
       " 'more household',\n",
       " 'spreads',\n",
       " 'salad dressing toppings',\n",
       " 'cocoa drink mixes',\n",
       " 'soy lactosefree',\n",
       " 'baby food formula',\n",
       " 'breakfast bakery',\n",
       " 'tea',\n",
       " 'canned meat seafood',\n",
       " 'lunch meat',\n",
       " 'baking supplies decor',\n",
       " 'juice nectars',\n",
       " 'canned fruit applesauce',\n",
       " 'missing',\n",
       " 'air fresheners candles',\n",
       " 'baby bath body care',\n",
       " 'ice cream toppings',\n",
       " 'spices seasonings',\n",
       " 'doughs gelatins bake mixes',\n",
       " 'hot dogs bacon sausage',\n",
       " 'chips pretzels',\n",
       " 'other creams cheeses',\n",
       " 'skin care',\n",
       " 'pickled goods olives',\n",
       " 'plates bowls cups flatware',\n",
       " 'bread',\n",
       " 'frozen juice',\n",
       " 'cleaning products',\n",
       " 'water seltzer sparkling water',\n",
       " 'frozen produce',\n",
       " 'nuts seeds dried fruit',\n",
       " 'first aid',\n",
       " 'frozen dessert',\n",
       " 'yogurt',\n",
       " 'cereal',\n",
       " 'meat counter',\n",
       " 'packaged vegetables fruits',\n",
       " 'spirits',\n",
       " 'trail mix snack mix',\n",
       " 'feminine care',\n",
       " 'body lotions soap',\n",
       " 'tortillas flat bread',\n",
       " 'frozen appetizers sides',\n",
       " 'hot cereal pancake mixes',\n",
       " 'dry pasta',\n",
       " 'beauty',\n",
       " 'muscles joints pain relief',\n",
       " 'specialty wines champagnes']"
      ]
     },
     "execution_count": 44,
     "metadata": {},
     "output_type": "execute_result"
    }
   ],
   "source": [
    "[name for name in aisles.aisle]"
   ]
  },
  {
   "cell_type": "markdown",
   "metadata": {
    "hidden": true
   },
   "source": [
    "- What aisles contain the most products? Least?\n",
    "- What aisles do people order from the most?"
   ]
  },
  {
   "cell_type": "markdown",
   "metadata": {
    "ExecuteTime": {
     "end_time": "2020-03-11T15:42:34.137977Z",
     "start_time": "2020-03-11T15:42:33.941587Z"
    },
    "heading_collapsed": true
   },
   "source": [
    "### Departments table"
   ]
  },
  {
   "cell_type": "code",
   "execution_count": 33,
   "metadata": {
    "ExecuteTime": {
     "end_time": "2020-03-11T15:43:50.612055Z",
     "start_time": "2020-03-11T15:43:50.591412Z"
    },
    "hidden": true
   },
   "outputs": [
    {
     "data": {
      "text/html": [
       "<div>\n",
       "<style scoped>\n",
       "    .dataframe tbody tr th:only-of-type {\n",
       "        vertical-align: middle;\n",
       "    }\n",
       "\n",
       "    .dataframe tbody tr th {\n",
       "        vertical-align: top;\n",
       "    }\n",
       "\n",
       "    .dataframe thead th {\n",
       "        text-align: right;\n",
       "    }\n",
       "</style>\n",
       "<table border=\"1\" class=\"dataframe\">\n",
       "  <thead>\n",
       "    <tr style=\"text-align: right;\">\n",
       "      <th></th>\n",
       "      <th>index</th>\n",
       "      <th>department_id</th>\n",
       "      <th>department</th>\n",
       "    </tr>\n",
       "  </thead>\n",
       "  <tbody>\n",
       "    <tr>\n",
       "      <td>0</td>\n",
       "      <td>0</td>\n",
       "      <td>1</td>\n",
       "      <td>frozen</td>\n",
       "    </tr>\n",
       "    <tr>\n",
       "      <td>1</td>\n",
       "      <td>1</td>\n",
       "      <td>2</td>\n",
       "      <td>other</td>\n",
       "    </tr>\n",
       "    <tr>\n",
       "      <td>2</td>\n",
       "      <td>2</td>\n",
       "      <td>3</td>\n",
       "      <td>bakery</td>\n",
       "    </tr>\n",
       "    <tr>\n",
       "      <td>3</td>\n",
       "      <td>3</td>\n",
       "      <td>4</td>\n",
       "      <td>produce</td>\n",
       "    </tr>\n",
       "    <tr>\n",
       "      <td>4</td>\n",
       "      <td>4</td>\n",
       "      <td>5</td>\n",
       "      <td>alcohol</td>\n",
       "    </tr>\n",
       "  </tbody>\n",
       "</table>\n",
       "</div>"
      ],
      "text/plain": [
       "   index  department_id department\n",
       "0      0              1     frozen\n",
       "1      1              2      other\n",
       "2      2              3     bakery\n",
       "3      3              4    produce\n",
       "4      4              5    alcohol"
      ]
     },
     "execution_count": 33,
     "metadata": {},
     "output_type": "execute_result"
    }
   ],
   "source": [
    "# Query the database and load the data\n",
    "cur.execute(\"\"\"\n",
    "    SELECT *\n",
    "    FROM departments\n",
    "            ;\"\"\")\n",
    "departments = pd.DataFrame(cur.fetchall())\n",
    "departments.columns = [x[0] for x in cur.description]\n",
    "departments.head()"
   ]
  },
  {
   "cell_type": "code",
   "execution_count": 38,
   "metadata": {
    "ExecuteTime": {
     "end_time": "2020-03-11T16:05:20.349858Z",
     "start_time": "2020-03-11T16:05:20.338898Z"
    },
    "hidden": true
   },
   "outputs": [
    {
     "name": "stdout",
     "output_type": "stream",
     "text": [
      "<class 'pandas.core.frame.DataFrame'>\n",
      "RangeIndex: 21 entries, 0 to 20\n",
      "Data columns (total 3 columns):\n",
      "index            21 non-null int64\n",
      "department_id    21 non-null int64\n",
      "department       21 non-null object\n",
      "dtypes: int64(2), object(1)\n",
      "memory usage: 632.0+ bytes\n"
     ]
    }
   ],
   "source": [
    "departments.info()"
   ]
  },
  {
   "cell_type": "code",
   "execution_count": 39,
   "metadata": {
    "ExecuteTime": {
     "end_time": "2020-03-11T16:05:44.084489Z",
     "start_time": "2020-03-11T16:05:44.074744Z"
    },
    "hidden": true
   },
   "outputs": [
    {
     "data": {
      "text/plain": [
       "['frozen',\n",
       " 'other',\n",
       " 'bakery',\n",
       " 'produce',\n",
       " 'alcohol',\n",
       " 'international',\n",
       " 'beverages',\n",
       " 'pets',\n",
       " 'dry goods pasta',\n",
       " 'bulk',\n",
       " 'personal care',\n",
       " 'meat seafood',\n",
       " 'pantry',\n",
       " 'breakfast',\n",
       " 'canned goods',\n",
       " 'dairy eggs',\n",
       " 'household',\n",
       " 'babies',\n",
       " 'snacks',\n",
       " 'deli',\n",
       " 'missing']"
      ]
     },
     "execution_count": 39,
     "metadata": {},
     "output_type": "execute_result"
    }
   ],
   "source": [
    "[name for name in departments.department]"
   ]
  },
  {
   "cell_type": "markdown",
   "metadata": {
    "hidden": true
   },
   "source": [
    "- What are the various departments?\n",
    "- Which departments contain the most items?\n",
    "- Which departments do people order from the most?"
   ]
  },
  {
   "cell_type": "markdown",
   "metadata": {},
   "source": [
    "# Cleaning"
   ]
  },
  {
   "cell_type": "markdown",
   "metadata": {},
   "source": [
    "# Analyses"
   ]
  },
  {
   "cell_type": "markdown",
   "metadata": {},
   "source": [
    "- Do people buying stuff for babies buy more items overall? (Hypothesis test: number of products in orders containing baby items v. orders not containing baby items.)\n",
    "- What about people buying alcohol? Is alcohol part of a larger order, eg for a party, or are people using this as an alcohol delivery service?\n",
    "- What can we learn about the most active users (e.g., top 1% by number or size of orders?)\n",
    "- What are the busiest days of week?\n",
    "- What are the busiest times of day?\n",
    "- What are the most popular items?\n",
    "- Does order size vary by day or time? E.g., are people placing smaller orders on weeknights and bigger orders on weekends? (This is a hypothesis test: weeknight order product count v. weekend order product count.)\n",
    "- Can customers be clustered in any interesting ways? E.g., weekend v. weekday, alcohol consumers, baby product consumers, meat consumers, organic consumers? Features to create: number of orders; average size of order; average time of day; average DOW; average time between orders; has ordered alcohol; has ordered baby stuff; average reorder rate > 50%; "
   ]
  },
  {
   "cell_type": "markdown",
   "metadata": {},
   "source": [
    "## Quick and easy"
   ]
  },
  {
   "cell_type": "markdown",
   "metadata": {
    "heading_collapsed": true
   },
   "source": [
    "### Count of unique users"
   ]
  },
  {
   "cell_type": "markdown",
   "metadata": {
    "hidden": true
   },
   "source": [
    "How many unique users are represented in this dataset?"
   ]
  },
  {
   "cell_type": "code",
   "execution_count": 10,
   "metadata": {
    "ExecuteTime": {
     "end_time": "2020-03-12T16:41:46.378550Z",
     "start_time": "2020-03-12T16:41:46.365318Z"
    },
    "hidden": true
   },
   "outputs": [
    {
     "data": {
      "text/plain": [
       "25000"
      ]
     },
     "execution_count": 10,
     "metadata": {},
     "output_type": "execute_result"
    }
   ],
   "source": [
    "# Count unique users by user_id in orders table\n",
    "orders.user_id.nunique()"
   ]
  },
  {
   "cell_type": "markdown",
   "metadata": {
    "heading_collapsed": true
   },
   "source": [
    "### Busiest day of week"
   ]
  },
  {
   "cell_type": "markdown",
   "metadata": {
    "hidden": true
   },
   "source": [
    "What is the busiest day of the week by number of orders?"
   ]
  },
  {
   "cell_type": "code",
   "execution_count": 27,
   "metadata": {
    "ExecuteTime": {
     "end_time": "2020-03-12T16:58:54.635566Z",
     "start_time": "2020-03-12T16:58:54.617692Z"
    },
    "hidden": true
   },
   "outputs": [
    {
     "data": {
      "text/plain": [
       "0    72971\n",
       "1    71582\n",
       "2    56404\n",
       "5    54903\n",
       "6    54156\n",
       "3    53205\n",
       "4    51551\n",
       "Name: order_dow, dtype: int64"
      ]
     },
     "execution_count": 27,
     "metadata": {},
     "output_type": "execute_result"
    }
   ],
   "source": [
    "orders.order_dow.value_counts()"
   ]
  },
  {
   "cell_type": "code",
   "execution_count": 33,
   "metadata": {
    "ExecuteTime": {
     "end_time": "2020-03-12T17:02:50.344206Z",
     "start_time": "2020-03-12T17:02:50.137820Z"
    },
    "hidden": true,
    "scrolled": false
   },
   "outputs": [
    {
     "data": {
      "image/png": "[encoded data removed]",
      "text/plain": [
       "<Figure size 432x288 with 1 Axes>"
      ]
     },
     "metadata": {
      "needs_background": "light"
     },
     "output_type": "display_data"
    }
   ],
   "source": [
    "days = {0:'Sun', 1:'Mon', 2:'Tue', 3:'Wed', 4:'Thu', 5:'Fri', 6:'Sat'}\n",
    "values = [orders.order_dow.value_counts()[day] for day in days.keys()]\n",
    "plt.bar(days.values(), values)\n",
    "plt.title('Orders by Day of Week')\n",
    "plt.show();"
   ]
  },
  {
   "cell_type": "code",
   "execution_count": 22,
   "metadata": {
    "ExecuteTime": {
     "end_time": "2020-03-12T16:54:41.832129Z",
     "start_time": "2020-03-12T16:54:41.817479Z"
    },
    "hidden": true
   },
   "outputs": [
    {
     "data": {
      "text/plain": [
       "72971"
      ]
     },
     "execution_count": 22,
     "metadata": {},
     "output_type": "execute_result"
    }
   ],
   "source": [
    "orders.order_dow.value_counts().max()"
   ]
  },
  {
   "cell_type": "markdown",
   "metadata": {
    "heading_collapsed": true
   },
   "source": [
    "### Busiest time of day"
   ]
  },
  {
   "cell_type": "code",
   "execution_count": 35,
   "metadata": {
    "ExecuteTime": {
     "end_time": "2020-03-12T17:04:48.260050Z",
     "start_time": "2020-03-12T17:04:48.052755Z"
    },
    "hidden": true
   },
   "outputs": [
    {
     "data": {
      "image/png": "[encoded data removed]",
      "text/plain": [
       "<Figure size 432x288 with 1 Axes>"
      ]
     },
     "metadata": {
      "needs_background": "light"
     },
     "output_type": "display_data"
    }
   ],
   "source": [
    "plt.bar(orders.order_hour_of_day.value_counts().index, orders.order_hour_of_day.value_counts())\n",
    "plt.title('Orders by Hour of Day')\n",
    "plt.show();"
   ]
  },
  {
   "cell_type": "markdown",
   "metadata": {
    "hidden": true
   },
   "source": [
    "The busiest part of the day is 10 AM-3 PM."
   ]
  },
  {
   "cell_type": "code",
   "execution_count": 40,
   "metadata": {
    "ExecuteTime": {
     "end_time": "2020-03-12T17:09:10.457361Z",
     "start_time": "2020-03-12T17:09:10.260590Z"
    },
    "hidden": true
   },
   "outputs": [
    {
     "data": {
      "image/png": "[encoded data removed]",
      "text/plain": [
       "<Figure size 432x288 with 1 Axes>"
      ]
     },
     "metadata": {
      "needs_background": "light"
     },
     "output_type": "display_data"
    }
   ],
   "source": [
    "sundays = orders[orders.order_dow == 0]\n",
    "plt.bar(sundays.order_hour_of_day.value_counts().index, sundays.order_hour_of_day.value_counts())\n",
    "plt.title('Sunday Orders by Hour of Day')\n",
    "plt.show();"
   ]
  },
  {
   "cell_type": "code",
   "execution_count": 104,
   "metadata": {
    "ExecuteTime": {
     "end_time": "2020-03-12T18:03:33.856745Z",
     "start_time": "2020-03-12T18:03:32.958383Z"
    },
    "hidden": true
   },
   "outputs": [
    {
     "data": {
      "image/png": "[encoded data removed]",
      "text/plain": [
       "<Figure size 864x576 with 1 Axes>"
      ]
     },
     "metadata": {},
     "output_type": "display_data"
    }
   ],
   "source": [
    "sns.set_context('talk')\n",
    "plt.figure(figsize=(12, 8))\n",
    "sns.violinplot(orders.order_hour_of_day, orders.order_dow, orient='h', color='lightgreen')\n",
    "plt.yticks(range(7), [days[n] for n in range(7)])\n",
    "plt.xticks([0, 5, 10, 15, 20], [0, 5, 10, 15, 20])\n",
    "plt.xlabel('Hour of Day')\n",
    "plt.ylabel('')\n",
    "plt.title('Orders by Day and Time')\n",
    "sns.despine()\n",
    "plt.show();"
   ]
  },
  {
   "cell_type": "markdown",
   "metadata": {
    "heading_collapsed": true
   },
   "source": [
    "### Average size of order (also broken down by day/time)"
   ]
  },
  {
   "cell_type": "code",
   "execution_count": 110,
   "metadata": {
    "ExecuteTime": {
     "end_time": "2020-03-12T18:13:05.957060Z",
     "start_time": "2020-03-12T18:13:03.592698Z"
    },
    "hidden": true,
    "scrolled": true
   },
   "outputs": [
    {
     "data": {
      "text/html": [
       "<div>\n",
       "<style scoped>\n",
       "    .dataframe tbody tr th:only-of-type {\n",
       "        vertical-align: middle;\n",
       "    }\n",
       "\n",
       "    .dataframe tbody tr th {\n",
       "        vertical-align: top;\n",
       "    }\n",
       "\n",
       "    .dataframe thead th {\n",
       "        text-align: right;\n",
       "    }\n",
       "</style>\n",
       "<table border=\"1\" class=\"dataframe\">\n",
       "  <thead>\n",
       "    <tr style=\"text-align: right;\">\n",
       "      <th></th>\n",
       "      <th>order_id</th>\n",
       "      <th>num_products</th>\n",
       "    </tr>\n",
       "  </thead>\n",
       "  <tbody>\n",
       "    <tr>\n",
       "      <td>0</td>\n",
       "      <td>2</td>\n",
       "      <td>9</td>\n",
       "    </tr>\n",
       "    <tr>\n",
       "      <td>1</td>\n",
       "      <td>4</td>\n",
       "      <td>13</td>\n",
       "    </tr>\n",
       "    <tr>\n",
       "      <td>2</td>\n",
       "      <td>15</td>\n",
       "      <td>5</td>\n",
       "    </tr>\n",
       "    <tr>\n",
       "      <td>3</td>\n",
       "      <td>19</td>\n",
       "      <td>3</td>\n",
       "    </tr>\n",
       "    <tr>\n",
       "      <td>4</td>\n",
       "      <td>27</td>\n",
       "      <td>27</td>\n",
       "    </tr>\n",
       "  </tbody>\n",
       "</table>\n",
       "</div>"
      ],
      "text/plain": [
       "   order_id  num_products\n",
       "0         2             9\n",
       "1         4            13\n",
       "2        15             5\n",
       "3        19             3\n",
       "4        27            27"
      ]
     },
     "execution_count": 110,
     "metadata": {},
     "output_type": "execute_result"
    }
   ],
   "source": [
    "# Query the database and load the data\n",
    "cur.execute(\"\"\"\n",
    "    SELECT order_id, COUNT(*) AS num_products\n",
    "    FROM order_products\n",
    "    GROUP BY order_id\n",
    "            ;\"\"\")\n",
    "prod_counts = pd.DataFrame(cur.fetchall())\n",
    "prod_counts.columns = [x[0] for x in cur.description]\n",
    "prod_counts.head()"
   ]
  },
  {
   "cell_type": "code",
   "execution_count": 111,
   "metadata": {
    "ExecuteTime": {
     "end_time": "2020-03-12T18:13:06.224048Z",
     "start_time": "2020-03-12T18:13:05.961695Z"
    },
    "hidden": true,
    "scrolled": true
   },
   "outputs": [
    {
     "data": {
      "image/png": "[encoded data removed]",
      "text/plain": [
       "<Figure size 432x288 with 1 Axes>"
      ]
     },
     "metadata": {},
     "output_type": "display_data"
    }
   ],
   "source": [
    "plt.hist(prod_counts.num_products);"
   ]
  },
  {
   "cell_type": "code",
   "execution_count": 112,
   "metadata": {
    "ExecuteTime": {
     "end_time": "2020-03-12T18:13:08.676384Z",
     "start_time": "2020-03-12T18:13:08.615846Z"
    },
    "hidden": true
   },
   "outputs": [
    {
     "data": {
      "text/html": [
       "<div>\n",
       "<style scoped>\n",
       "    .dataframe tbody tr th:only-of-type {\n",
       "        vertical-align: middle;\n",
       "    }\n",
       "\n",
       "    .dataframe tbody tr th {\n",
       "        vertical-align: top;\n",
       "    }\n",
       "\n",
       "    .dataframe thead th {\n",
       "        text-align: right;\n",
       "    }\n",
       "</style>\n",
       "<table border=\"1\" class=\"dataframe\">\n",
       "  <thead>\n",
       "    <tr style=\"text-align: right;\">\n",
       "      <th></th>\n",
       "      <th>order_id</th>\n",
       "      <th>num_products</th>\n",
       "    </tr>\n",
       "  </thead>\n",
       "  <tbody>\n",
       "    <tr>\n",
       "      <td>count</td>\n",
       "      <td>3.897720e+05</td>\n",
       "      <td>389772.000000</td>\n",
       "    </tr>\n",
       "    <tr>\n",
       "      <td>mean</td>\n",
       "      <td>1.709445e+06</td>\n",
       "      <td>10.066880</td>\n",
       "    </tr>\n",
       "    <tr>\n",
       "      <td>std</td>\n",
       "      <td>9.883441e+05</td>\n",
       "      <td>7.501151</td>\n",
       "    </tr>\n",
       "    <tr>\n",
       "      <td>min</td>\n",
       "      <td>2.000000e+00</td>\n",
       "      <td>1.000000</td>\n",
       "    </tr>\n",
       "    <tr>\n",
       "      <td>25%</td>\n",
       "      <td>8.529415e+05</td>\n",
       "      <td>5.000000</td>\n",
       "    </tr>\n",
       "    <tr>\n",
       "      <td>50%</td>\n",
       "      <td>1.710362e+06</td>\n",
       "      <td>8.000000</td>\n",
       "    </tr>\n",
       "    <tr>\n",
       "      <td>75%</td>\n",
       "      <td>2.564951e+06</td>\n",
       "      <td>14.000000</td>\n",
       "    </tr>\n",
       "    <tr>\n",
       "      <td>max</td>\n",
       "      <td>3.421073e+06</td>\n",
       "      <td>102.000000</td>\n",
       "    </tr>\n",
       "  </tbody>\n",
       "</table>\n",
       "</div>"
      ],
      "text/plain": [
       "           order_id   num_products\n",
       "count  3.897720e+05  389772.000000\n",
       "mean   1.709445e+06      10.066880\n",
       "std    9.883441e+05       7.501151\n",
       "min    2.000000e+00       1.000000\n",
       "25%    8.529415e+05       5.000000\n",
       "50%    1.710362e+06       8.000000\n",
       "75%    2.564951e+06      14.000000\n",
       "max    3.421073e+06     102.000000"
      ]
     },
     "execution_count": 112,
     "metadata": {},
     "output_type": "execute_result"
    }
   ],
   "source": [
    "prod_counts.describe()"
   ]
  },
  {
   "cell_type": "code",
   "execution_count": 133,
   "metadata": {
    "ExecuteTime": {
     "end_time": "2020-03-12T18:34:05.376291Z",
     "start_time": "2020-03-12T18:33:55.637610Z"
    },
    "hidden": true
   },
   "outputs": [
    {
     "data": {
      "text/html": [
       "<div>\n",
       "<style scoped>\n",
       "    .dataframe tbody tr th:only-of-type {\n",
       "        vertical-align: middle;\n",
       "    }\n",
       "\n",
       "    .dataframe tbody tr th {\n",
       "        vertical-align: top;\n",
       "    }\n",
       "\n",
       "    .dataframe thead th {\n",
       "        text-align: right;\n",
       "    }\n",
       "</style>\n",
       "<table border=\"1\" class=\"dataframe\">\n",
       "  <thead>\n",
       "    <tr style=\"text-align: right;\">\n",
       "      <th></th>\n",
       "      <th>order_id</th>\n",
       "      <th>order_dow</th>\n",
       "      <th>num_products</th>\n",
       "    </tr>\n",
       "  </thead>\n",
       "  <tbody>\n",
       "    <tr>\n",
       "      <td>0</td>\n",
       "      <td>62</td>\n",
       "      <td>0</td>\n",
       "      <td>7</td>\n",
       "    </tr>\n",
       "    <tr>\n",
       "      <td>1</td>\n",
       "      <td>114</td>\n",
       "      <td>0</td>\n",
       "      <td>10</td>\n",
       "    </tr>\n",
       "    <tr>\n",
       "      <td>2</td>\n",
       "      <td>130</td>\n",
       "      <td>0</td>\n",
       "      <td>14</td>\n",
       "    </tr>\n",
       "    <tr>\n",
       "      <td>3</td>\n",
       "      <td>193</td>\n",
       "      <td>0</td>\n",
       "      <td>12</td>\n",
       "    </tr>\n",
       "    <tr>\n",
       "      <td>4</td>\n",
       "      <td>214</td>\n",
       "      <td>0</td>\n",
       "      <td>9</td>\n",
       "    </tr>\n",
       "  </tbody>\n",
       "</table>\n",
       "</div>"
      ],
      "text/plain": [
       "   order_id  order_dow  num_products\n",
       "0        62          0             7\n",
       "1       114          0            10\n",
       "2       130          0            14\n",
       "3       193          0            12\n",
       "4       214          0             9"
      ]
     },
     "execution_count": 133,
     "metadata": {},
     "output_type": "execute_result"
    }
   ],
   "source": [
    "# Query the database and load the data\n",
    "cur.execute(\"\"\"\n",
    "    SELECT o.order_id, \n",
    "           o.order_dow,\n",
    "           COUNT(op.product_id) AS num_products\n",
    "    FROM orders AS o\n",
    "    INNER JOIN order_products AS op\n",
    "    ON o.order_id = op.order_id\n",
    "    GROUP BY o.order_dow, o.order_id\n",
    "            ;\"\"\")\n",
    "dow_prod_count = pd.DataFrame(cur.fetchall())\n",
    "dow_prod_count.columns = [x[0] for x in cur.description]\n",
    "dow_prod_count.head()"
   ]
  },
  {
   "cell_type": "code",
   "execution_count": 132,
   "metadata": {
    "ExecuteTime": {
     "end_time": "2020-03-12T18:32:30.735912Z",
     "start_time": "2020-03-12T18:32:30.711679Z"
    },
    "hidden": true
   },
   "outputs": [
    {
     "data": {
      "text/plain": [
       "order_dow\n",
       "0    11.142984\n",
       "1    10.165645\n",
       "2     9.538616\n",
       "3     9.269974\n",
       "4     9.424939\n",
       "5     9.887200\n",
       "6    10.637184\n",
       "Name: num_products, dtype: float64"
      ]
     },
     "execution_count": 132,
     "metadata": {},
     "output_type": "execute_result"
    }
   ],
   "source": [
    "dow_prod_count.groupby('order_dow')['num_products'].mean()"
   ]
  },
  {
   "cell_type": "code",
   "execution_count": 142,
   "metadata": {
    "ExecuteTime": {
     "end_time": "2020-03-12T19:56:40.303397Z",
     "start_time": "2020-03-12T19:56:37.673220Z"
    },
    "hidden": true
   },
   "outputs": [
    {
     "data": {
      "image/png": "[encoded data removed]",
      "text/plain": [
       "<Figure size 864x576 with 1 Axes>"
      ]
     },
     "metadata": {},
     "output_type": "display_data"
    }
   ],
   "source": [
    "plt.figure(figsize=(12, 8))\n",
    "sns.violinplot(dow_prod_count.num_products, dow_prod_count.order_dow, orient='h', color='lightgreen')\n",
    "# plt.axvline(x=dow_prod_count.num_products.median(), linestyle='--', color='r', label='Overall median order size')\n",
    "plt.yticks(range(7), [days[n] for n in range(7)])\n",
    "plt.xlabel('Number of Products Ordered')\n",
    "plt.ylabel('')\n",
    "plt.title('Size of Orders by Day of Week')\n",
    "# plt.legend()\n",
    "sns.despine()\n",
    "plt.show();"
   ]
  },
  {
   "cell_type": "markdown",
   "metadata": {
    "heading_collapsed": true
   },
   "source": [
    "### Average % of reordered products per order and overall"
   ]
  },
  {
   "cell_type": "code",
   "execution_count": 144,
   "metadata": {
    "ExecuteTime": {
     "end_time": "2020-03-12T20:00:57.739286Z",
     "start_time": "2020-03-12T20:00:55.326364Z"
    },
    "hidden": true
   },
   "outputs": [
    {
     "data": {
      "text/html": [
       "<div>\n",
       "<style scoped>\n",
       "    .dataframe tbody tr th:only-of-type {\n",
       "        vertical-align: middle;\n",
       "    }\n",
       "\n",
       "    .dataframe tbody tr th {\n",
       "        vertical-align: top;\n",
       "    }\n",
       "\n",
       "    .dataframe thead th {\n",
       "        text-align: right;\n",
       "    }\n",
       "</style>\n",
       "<table border=\"1\" class=\"dataframe\">\n",
       "  <thead>\n",
       "    <tr style=\"text-align: right;\">\n",
       "      <th></th>\n",
       "      <th>order_id</th>\n",
       "      <th>reorder_rate</th>\n",
       "    </tr>\n",
       "  </thead>\n",
       "  <tbody>\n",
       "    <tr>\n",
       "      <td>0</td>\n",
       "      <td>2</td>\n",
       "      <td>0.666667</td>\n",
       "    </tr>\n",
       "    <tr>\n",
       "      <td>1</td>\n",
       "      <td>4</td>\n",
       "      <td>0.923077</td>\n",
       "    </tr>\n",
       "    <tr>\n",
       "      <td>2</td>\n",
       "      <td>15</td>\n",
       "      <td>1.000000</td>\n",
       "    </tr>\n",
       "    <tr>\n",
       "      <td>3</td>\n",
       "      <td>19</td>\n",
       "      <td>1.000000</td>\n",
       "    </tr>\n",
       "    <tr>\n",
       "      <td>4</td>\n",
       "      <td>27</td>\n",
       "      <td>0.592593</td>\n",
       "    </tr>\n",
       "  </tbody>\n",
       "</table>\n",
       "</div>"
      ],
      "text/plain": [
       "   order_id  reorder_rate\n",
       "0         2      0.666667\n",
       "1         4      0.923077\n",
       "2        15      1.000000\n",
       "3        19      1.000000\n",
       "4        27      0.592593"
      ]
     },
     "execution_count": 144,
     "metadata": {},
     "output_type": "execute_result"
    }
   ],
   "source": [
    "# Query the database and load the data\n",
    "cur.execute(\"\"\"\n",
    "    SELECT order_id, AVG(reordered) AS reorder_rate\n",
    "    FROM order_products\n",
    "    GROUP BY order_id\n",
    "            ;\"\"\")\n",
    "reorder_rate = pd.DataFrame(cur.fetchall())\n",
    "reorder_rate.columns = [x[0] for x in cur.description]\n",
    "reorder_rate.head()"
   ]
  },
  {
   "cell_type": "code",
   "execution_count": 147,
   "metadata": {
    "ExecuteTime": {
     "end_time": "2020-03-12T20:03:19.659307Z",
     "start_time": "2020-03-12T20:03:19.456038Z"
    },
    "hidden": true
   },
   "outputs": [
    {
     "data": {
      "image/png": "[encoded data removed]",
      "text/plain": [
       "<Figure size 432x288 with 1 Axes>"
      ]
     },
     "metadata": {},
     "output_type": "display_data"
    }
   ],
   "source": [
    "plt.hist(reorder_rate.reorder_rate, bins=11);"
   ]
  },
  {
   "cell_type": "code",
   "execution_count": 154,
   "metadata": {
    "ExecuteTime": {
     "end_time": "2020-03-12T20:09:06.485681Z",
     "start_time": "2020-03-12T20:09:06.448273Z"
    },
    "hidden": true
   },
   "outputs": [
    {
     "data": {
      "text/plain": [
       "count    389772.000000\n",
       "mean          0.598224\n",
       "std           0.337890\n",
       "min           0.000000\n",
       "25%           0.333333\n",
       "50%           0.666667\n",
       "75%           0.904075\n",
       "max           1.000000\n",
       "Name: reorder_rate, dtype: float64"
      ]
     },
     "execution_count": 154,
     "metadata": {},
     "output_type": "execute_result"
    }
   ],
   "source": [
    "reorder_rate.reorder_rate.describe()"
   ]
  },
  {
   "cell_type": "code",
   "execution_count": 150,
   "metadata": {
    "ExecuteTime": {
     "end_time": "2020-03-12T20:06:45.909211Z",
     "start_time": "2020-03-12T20:06:43.539495Z"
    },
    "hidden": true
   },
   "outputs": [
    {
     "data": {
      "text/html": [
       "<div>\n",
       "<style scoped>\n",
       "    .dataframe tbody tr th:only-of-type {\n",
       "        vertical-align: middle;\n",
       "    }\n",
       "\n",
       "    .dataframe tbody tr th {\n",
       "        vertical-align: top;\n",
       "    }\n",
       "\n",
       "    .dataframe thead th {\n",
       "        text-align: right;\n",
       "    }\n",
       "</style>\n",
       "<table border=\"1\" class=\"dataframe\">\n",
       "  <thead>\n",
       "    <tr style=\"text-align: right;\">\n",
       "      <th></th>\n",
       "      <th>order_id</th>\n",
       "      <th>num_products</th>\n",
       "      <th>reorder_rate</th>\n",
       "    </tr>\n",
       "  </thead>\n",
       "  <tbody>\n",
       "    <tr>\n",
       "      <td>0</td>\n",
       "      <td>15</td>\n",
       "      <td>5</td>\n",
       "      <td>1.0</td>\n",
       "    </tr>\n",
       "    <tr>\n",
       "      <td>1</td>\n",
       "      <td>19</td>\n",
       "      <td>3</td>\n",
       "      <td>1.0</td>\n",
       "    </tr>\n",
       "    <tr>\n",
       "      <td>2</td>\n",
       "      <td>111</td>\n",
       "      <td>5</td>\n",
       "      <td>1.0</td>\n",
       "    </tr>\n",
       "    <tr>\n",
       "      <td>3</td>\n",
       "      <td>139</td>\n",
       "      <td>6</td>\n",
       "      <td>1.0</td>\n",
       "    </tr>\n",
       "    <tr>\n",
       "      <td>4</td>\n",
       "      <td>205</td>\n",
       "      <td>3</td>\n",
       "      <td>1.0</td>\n",
       "    </tr>\n",
       "  </tbody>\n",
       "</table>\n",
       "</div>"
      ],
      "text/plain": [
       "   order_id  num_products  reorder_rate\n",
       "0        15             5           1.0\n",
       "1        19             3           1.0\n",
       "2       111             5           1.0\n",
       "3       139             6           1.0\n",
       "4       205             3           1.0"
      ]
     },
     "execution_count": 150,
     "metadata": {},
     "output_type": "execute_result"
    }
   ],
   "source": [
    "# Query the database and load the data\n",
    "cur.execute(\"\"\"\n",
    "    SELECT order_id,\n",
    "           COUNT(product_id) AS num_products,\n",
    "           AVG(reordered) AS reorder_rate\n",
    "    FROM order_products\n",
    "    GROUP BY order_id\n",
    "    HAVING AVG(reordered) = 1.0\n",
    "            ;\"\"\")\n",
    "only_reorder = pd.DataFrame(cur.fetchall())\n",
    "only_reorder.columns = [x[0] for x in cur.description]\n",
    "only_reorder.head()"
   ]
  },
  {
   "cell_type": "code",
   "execution_count": 153,
   "metadata": {
    "ExecuteTime": {
     "end_time": "2020-03-12T20:08:11.307342Z",
     "start_time": "2020-03-12T20:08:11.294556Z"
    },
    "hidden": true,
    "scrolled": true
   },
   "outputs": [
    {
     "data": {
      "text/plain": [
       "count    83979.000000\n",
       "mean         5.729004\n",
       "std          5.011902\n",
       "min          1.000000\n",
       "25%          2.000000\n",
       "50%          4.000000\n",
       "75%          8.000000\n",
       "max         80.000000\n",
       "Name: num_products, dtype: float64"
      ]
     },
     "execution_count": 153,
     "metadata": {},
     "output_type": "execute_result"
    }
   ],
   "source": [
    "only_reorder.num_products.describe()"
   ]
  },
  {
   "cell_type": "code",
   "execution_count": 155,
   "metadata": {
    "ExecuteTime": {
     "end_time": "2020-03-12T20:11:09.362026Z",
     "start_time": "2020-03-12T20:11:06.388582Z"
    },
    "hidden": true,
    "scrolled": true
   },
   "outputs": [
    {
     "data": {
      "text/html": [
       "<div>\n",
       "<style scoped>\n",
       "    .dataframe tbody tr th:only-of-type {\n",
       "        vertical-align: middle;\n",
       "    }\n",
       "\n",
       "    .dataframe tbody tr th {\n",
       "        vertical-align: top;\n",
       "    }\n",
       "\n",
       "    .dataframe thead th {\n",
       "        text-align: right;\n",
       "    }\n",
       "</style>\n",
       "<table border=\"1\" class=\"dataframe\">\n",
       "  <thead>\n",
       "    <tr style=\"text-align: right;\">\n",
       "      <th></th>\n",
       "      <th>order_id</th>\n",
       "      <th>num_products</th>\n",
       "      <th>reorder_rate</th>\n",
       "    </tr>\n",
       "  </thead>\n",
       "  <tbody>\n",
       "    <tr>\n",
       "      <td>0</td>\n",
       "      <td>2</td>\n",
       "      <td>9</td>\n",
       "      <td>0.666667</td>\n",
       "    </tr>\n",
       "    <tr>\n",
       "      <td>1</td>\n",
       "      <td>4</td>\n",
       "      <td>13</td>\n",
       "      <td>0.923077</td>\n",
       "    </tr>\n",
       "    <tr>\n",
       "      <td>2</td>\n",
       "      <td>27</td>\n",
       "      <td>27</td>\n",
       "      <td>0.592593</td>\n",
       "    </tr>\n",
       "    <tr>\n",
       "      <td>3</td>\n",
       "      <td>52</td>\n",
       "      <td>5</td>\n",
       "      <td>0.600000</td>\n",
       "    </tr>\n",
       "    <tr>\n",
       "      <td>4</td>\n",
       "      <td>62</td>\n",
       "      <td>7</td>\n",
       "      <td>0.285714</td>\n",
       "    </tr>\n",
       "  </tbody>\n",
       "</table>\n",
       "</div>"
      ],
      "text/plain": [
       "   order_id  num_products  reorder_rate\n",
       "0         2             9      0.666667\n",
       "1         4            13      0.923077\n",
       "2        27            27      0.592593\n",
       "3        52             5      0.600000\n",
       "4        62             7      0.285714"
      ]
     },
     "execution_count": 155,
     "metadata": {},
     "output_type": "execute_result"
    }
   ],
   "source": [
    "# Query the database and load the data\n",
    "cur.execute(\"\"\"\n",
    "    SELECT order_id,\n",
    "           COUNT(product_id) AS num_products,\n",
    "           AVG(reordered) AS reorder_rate\n",
    "    FROM order_products\n",
    "    GROUP BY order_id\n",
    "    HAVING AVG(reordered) != 1.0\n",
    "            ;\"\"\")\n",
    "not_only_reorder = pd.DataFrame(cur.fetchall())\n",
    "not_only_reorder.columns = [x[0] for x in cur.description]\n",
    "not_only_reorder.head()"
   ]
  },
  {
   "cell_type": "code",
   "execution_count": 156,
   "metadata": {
    "ExecuteTime": {
     "end_time": "2020-03-12T20:11:23.762277Z",
     "start_time": "2020-03-12T20:11:23.732840Z"
    },
    "hidden": true
   },
   "outputs": [
    {
     "data": {
      "text/plain": [
       "count    305793.000000\n",
       "mean         11.258178\n",
       "std           7.631158\n",
       "min           1.000000\n",
       "25%           6.000000\n",
       "50%           9.000000\n",
       "75%          15.000000\n",
       "max         102.000000\n",
       "Name: num_products, dtype: float64"
      ]
     },
     "execution_count": 156,
     "metadata": {},
     "output_type": "execute_result"
    }
   ],
   "source": [
    "not_only_reorder.num_products.describe()"
   ]
  },
  {
   "cell_type": "markdown",
   "metadata": {},
   "source": [
    "### Most popular items (also aggregated by aisle/dept)"
   ]
  },
  {
   "cell_type": "code",
   "execution_count": 157,
   "metadata": {
    "ExecuteTime": {
     "end_time": "2020-03-12T20:27:03.236534Z",
     "start_time": "2020-03-12T20:26:32.729910Z"
    }
   },
   "outputs": [
    {
     "data": {
      "text/html": [
       "<div>\n",
       "<style scoped>\n",
       "    .dataframe tbody tr th:only-of-type {\n",
       "        vertical-align: middle;\n",
       "    }\n",
       "\n",
       "    .dataframe tbody tr th {\n",
       "        vertical-align: top;\n",
       "    }\n",
       "\n",
       "    .dataframe thead th {\n",
       "        text-align: right;\n",
       "    }\n",
       "</style>\n",
       "<table border=\"1\" class=\"dataframe\">\n",
       "  <thead>\n",
       "    <tr style=\"text-align: right;\">\n",
       "      <th></th>\n",
       "      <th>product_id</th>\n",
       "      <th>product_name</th>\n",
       "      <th>aisle_id</th>\n",
       "      <th>department_id</th>\n",
       "      <th>count</th>\n",
       "    </tr>\n",
       "  </thead>\n",
       "  <tbody>\n",
       "    <tr>\n",
       "      <td>0</td>\n",
       "      <td>1</td>\n",
       "      <td>Chocolate Sandwich Cookies</td>\n",
       "      <td>61</td>\n",
       "      <td>19</td>\n",
       "      <td>231</td>\n",
       "    </tr>\n",
       "    <tr>\n",
       "      <td>1</td>\n",
       "      <td>2</td>\n",
       "      <td>All-Seasons Salt</td>\n",
       "      <td>104</td>\n",
       "      <td>13</td>\n",
       "      <td>11</td>\n",
       "    </tr>\n",
       "    <tr>\n",
       "      <td>2</td>\n",
       "      <td>3</td>\n",
       "      <td>Robust Golden Unsweetened Oolong Tea</td>\n",
       "      <td>94</td>\n",
       "      <td>7</td>\n",
       "      <td>44</td>\n",
       "    </tr>\n",
       "    <tr>\n",
       "      <td>3</td>\n",
       "      <td>4</td>\n",
       "      <td>Smart Ones Classic Favorites Mini Rigatoni Wit...</td>\n",
       "      <td>38</td>\n",
       "      <td>1</td>\n",
       "      <td>35</td>\n",
       "    </tr>\n",
       "    <tr>\n",
       "      <td>4</td>\n",
       "      <td>5</td>\n",
       "      <td>Green Chile Anytime Sauce</td>\n",
       "      <td>5</td>\n",
       "      <td>13</td>\n",
       "      <td>9</td>\n",
       "    </tr>\n",
       "  </tbody>\n",
       "</table>\n",
       "</div>"
      ],
      "text/plain": [
       "   product_id                                       product_name  aisle_id  \\\n",
       "0           1                         Chocolate Sandwich Cookies        61   \n",
       "1           2                                   All-Seasons Salt       104   \n",
       "2           3               Robust Golden Unsweetened Oolong Tea        94   \n",
       "3           4  Smart Ones Classic Favorites Mini Rigatoni Wit...        38   \n",
       "4           5                          Green Chile Anytime Sauce         5   \n",
       "\n",
       "   department_id  count  \n",
       "0             19    231  \n",
       "1             13     11  \n",
       "2              7     44  \n",
       "3              1     35  \n",
       "4             13      9  "
      ]
     },
     "execution_count": 157,
     "metadata": {},
     "output_type": "execute_result"
    }
   ],
   "source": [
    "# Query the database and load the data\n",
    "cur.execute(\"\"\"\n",
    "    SELECT p.product_id,\n",
    "           p.product_name,\n",
    "           p.aisle_id,\n",
    "           p.department_id,\n",
    "           COUNT(op.product_id) AS count\n",
    "    FROM products AS p\n",
    "    LEFT JOIN order_products AS op\n",
    "    ON p.product_id = op.product_id\n",
    "    GROUP BY 1, 2, 3, 4\n",
    "            ;\"\"\")\n",
    "popular = pd.DataFrame(cur.fetchall())\n",
    "popular.columns = [x[0] for x in cur.description]\n",
    "popular.head()"
   ]
  },
  {
   "cell_type": "code",
   "execution_count": 160,
   "metadata": {
    "ExecuteTime": {
     "end_time": "2020-03-12T20:27:49.359794Z",
     "start_time": "2020-03-12T20:27:49.347674Z"
    }
   },
   "outputs": [
    {
     "data": {
      "text/plain": [
       "count    49688.000000\n",
       "mean        78.968524\n",
       "std        582.505099\n",
       "min          0.000000\n",
       "25%          2.000000\n",
       "50%          7.000000\n",
       "75%         32.000000\n",
       "max      58231.000000\n",
       "Name: count, dtype: float64"
      ]
     },
     "execution_count": 160,
     "metadata": {},
     "output_type": "execute_result"
    }
   ],
   "source": [
    "popular['count'].describe()"
   ]
  },
  {
   "cell_type": "code",
   "execution_count": 205,
   "metadata": {
    "ExecuteTime": {
     "end_time": "2020-03-12T20:55:52.990046Z",
     "start_time": "2020-03-12T20:55:52.969650Z"
    }
   },
   "outputs": [
    {
     "data": {
      "text/html": [
       "<div>\n",
       "<style scoped>\n",
       "    .dataframe tbody tr th:only-of-type {\n",
       "        vertical-align: middle;\n",
       "    }\n",
       "\n",
       "    .dataframe tbody tr th {\n",
       "        vertical-align: top;\n",
       "    }\n",
       "\n",
       "    .dataframe thead th {\n",
       "        text-align: right;\n",
       "    }\n",
       "</style>\n",
       "<table border=\"1\" class=\"dataframe\">\n",
       "  <thead>\n",
       "    <tr style=\"text-align: right;\">\n",
       "      <th></th>\n",
       "      <th>product_id</th>\n",
       "      <th>product_name</th>\n",
       "      <th>aisle_id</th>\n",
       "      <th>department_id</th>\n",
       "      <th>count</th>\n",
       "    </tr>\n",
       "  </thead>\n",
       "  <tbody>\n",
       "    <tr>\n",
       "      <td>24851</td>\n",
       "      <td>24852</td>\n",
       "      <td>Banana</td>\n",
       "      <td>24</td>\n",
       "      <td>4</td>\n",
       "      <td>58231</td>\n",
       "    </tr>\n",
       "    <tr>\n",
       "      <td>13175</td>\n",
       "      <td>13176</td>\n",
       "      <td>Bag of Organic Bananas</td>\n",
       "      <td>24</td>\n",
       "      <td>4</td>\n",
       "      <td>45699</td>\n",
       "    </tr>\n",
       "    <tr>\n",
       "      <td>21136</td>\n",
       "      <td>21137</td>\n",
       "      <td>Organic Strawberries</td>\n",
       "      <td>24</td>\n",
       "      <td>4</td>\n",
       "      <td>32203</td>\n",
       "    </tr>\n",
       "    <tr>\n",
       "      <td>21902</td>\n",
       "      <td>21903</td>\n",
       "      <td>Organic Baby Spinach</td>\n",
       "      <td>123</td>\n",
       "      <td>4</td>\n",
       "      <td>29380</td>\n",
       "    </tr>\n",
       "    <tr>\n",
       "      <td>47208</td>\n",
       "      <td>47209</td>\n",
       "      <td>Organic Hass Avocado</td>\n",
       "      <td>24</td>\n",
       "      <td>4</td>\n",
       "      <td>25958</td>\n",
       "    </tr>\n",
       "    <tr>\n",
       "      <td>47765</td>\n",
       "      <td>47766</td>\n",
       "      <td>Organic Avocado</td>\n",
       "      <td>24</td>\n",
       "      <td>4</td>\n",
       "      <td>21642</td>\n",
       "    </tr>\n",
       "    <tr>\n",
       "      <td>47625</td>\n",
       "      <td>47626</td>\n",
       "      <td>Large Lemon</td>\n",
       "      <td>24</td>\n",
       "      <td>4</td>\n",
       "      <td>18581</td>\n",
       "    </tr>\n",
       "    <tr>\n",
       "      <td>26208</td>\n",
       "      <td>26209</td>\n",
       "      <td>Limes</td>\n",
       "      <td>24</td>\n",
       "      <td>4</td>\n",
       "      <td>17399</td>\n",
       "    </tr>\n",
       "    <tr>\n",
       "      <td>16796</td>\n",
       "      <td>16797</td>\n",
       "      <td>Strawberries</td>\n",
       "      <td>24</td>\n",
       "      <td>4</td>\n",
       "      <td>17217</td>\n",
       "    </tr>\n",
       "    <tr>\n",
       "      <td>27844</td>\n",
       "      <td>27845</td>\n",
       "      <td>Organic Whole Milk</td>\n",
       "      <td>84</td>\n",
       "      <td>16</td>\n",
       "      <td>16468</td>\n",
       "    </tr>\n",
       "  </tbody>\n",
       "</table>\n",
       "</div>"
      ],
      "text/plain": [
       "       product_id            product_name  aisle_id  department_id  count\n",
       "24851       24852                  Banana        24              4  58231\n",
       "13175       13176  Bag of Organic Bananas        24              4  45699\n",
       "21136       21137    Organic Strawberries        24              4  32203\n",
       "21902       21903    Organic Baby Spinach       123              4  29380\n",
       "47208       47209    Organic Hass Avocado        24              4  25958\n",
       "47765       47766         Organic Avocado        24              4  21642\n",
       "47625       47626             Large Lemon        24              4  18581\n",
       "26208       26209                   Limes        24              4  17399\n",
       "16796       16797            Strawberries        24              4  17217\n",
       "27844       27845      Organic Whole Milk        84             16  16468"
      ]
     },
     "execution_count": 205,
     "metadata": {},
     "output_type": "execute_result"
    }
   ],
   "source": [
    "top_pop = popular.sort_values(by='count', ascending=False)\n",
    "top_pop[:10]"
   ]
  },
  {
   "cell_type": "code",
   "execution_count": 239,
   "metadata": {
    "ExecuteTime": {
     "end_time": "2020-03-12T21:22:31.057675Z",
     "start_time": "2020-03-12T21:22:30.807121Z"
    }
   },
   "outputs": [
    {
     "data": {
      "image/png": "[encoded data removed]",
      "text/plain": [
       "<Figure size 720x576 with 1 Axes>"
      ]
     },
     "metadata": {},
     "output_type": "display_data"
    }
   ],
   "source": [
    "plt.figure(figsize=(10,8))\n",
    "sns.barplot(x='count', y='product_name', data=top_pop[:10], color='lightgreen');\n",
    "plt.xlabel('Number ordered')\n",
    "plt.ylabel('')\n",
    "plt.title('Top 10 Products by Total Quantity Ordered')\n",
    "plt.show();"
   ]
  },
  {
   "cell_type": "markdown",
   "metadata": {},
   "source": [
    "### Busiest aisle/dept"
   ]
  },
  {
   "cell_type": "code",
   "execution_count": 250,
   "metadata": {
    "ExecuteTime": {
     "end_time": "2020-03-12T21:28:26.645251Z",
     "start_time": "2020-03-12T21:27:53.368783Z"
    }
   },
   "outputs": [
    {
     "data": {
      "text/html": [
       "<div>\n",
       "<style scoped>\n",
       "    .dataframe tbody tr th:only-of-type {\n",
       "        vertical-align: middle;\n",
       "    }\n",
       "\n",
       "    .dataframe tbody tr th {\n",
       "        vertical-align: top;\n",
       "    }\n",
       "\n",
       "    .dataframe thead th {\n",
       "        text-align: right;\n",
       "    }\n",
       "</style>\n",
       "<table border=\"1\" class=\"dataframe\">\n",
       "  <thead>\n",
       "    <tr style=\"text-align: right;\">\n",
       "      <th></th>\n",
       "      <th>product_id</th>\n",
       "      <th>product_name</th>\n",
       "      <th>aisle_id</th>\n",
       "      <th>aisle</th>\n",
       "      <th>department_id</th>\n",
       "      <th>department</th>\n",
       "      <th>count</th>\n",
       "    </tr>\n",
       "  </thead>\n",
       "  <tbody>\n",
       "    <tr>\n",
       "      <td>0</td>\n",
       "      <td>1</td>\n",
       "      <td>Chocolate Sandwich Cookies</td>\n",
       "      <td>61</td>\n",
       "      <td>cookies cakes</td>\n",
       "      <td>19</td>\n",
       "      <td>snacks</td>\n",
       "      <td>231</td>\n",
       "    </tr>\n",
       "    <tr>\n",
       "      <td>1</td>\n",
       "      <td>2</td>\n",
       "      <td>All-Seasons Salt</td>\n",
       "      <td>104</td>\n",
       "      <td>spices seasonings</td>\n",
       "      <td>13</td>\n",
       "      <td>pantry</td>\n",
       "      <td>11</td>\n",
       "    </tr>\n",
       "    <tr>\n",
       "      <td>2</td>\n",
       "      <td>3</td>\n",
       "      <td>Robust Golden Unsweetened Oolong Tea</td>\n",
       "      <td>94</td>\n",
       "      <td>tea</td>\n",
       "      <td>7</td>\n",
       "      <td>beverages</td>\n",
       "      <td>44</td>\n",
       "    </tr>\n",
       "    <tr>\n",
       "      <td>3</td>\n",
       "      <td>4</td>\n",
       "      <td>Smart Ones Classic Favorites Mini Rigatoni Wit...</td>\n",
       "      <td>38</td>\n",
       "      <td>frozen meals</td>\n",
       "      <td>1</td>\n",
       "      <td>frozen</td>\n",
       "      <td>35</td>\n",
       "    </tr>\n",
       "    <tr>\n",
       "      <td>4</td>\n",
       "      <td>5</td>\n",
       "      <td>Green Chile Anytime Sauce</td>\n",
       "      <td>5</td>\n",
       "      <td>marinades meat preparation</td>\n",
       "      <td>13</td>\n",
       "      <td>pantry</td>\n",
       "      <td>9</td>\n",
       "    </tr>\n",
       "  </tbody>\n",
       "</table>\n",
       "</div>"
      ],
      "text/plain": [
       "   product_id                                       product_name  aisle_id  \\\n",
       "0           1                         Chocolate Sandwich Cookies        61   \n",
       "1           2                                   All-Seasons Salt       104   \n",
       "2           3               Robust Golden Unsweetened Oolong Tea        94   \n",
       "3           4  Smart Ones Classic Favorites Mini Rigatoni Wit...        38   \n",
       "4           5                          Green Chile Anytime Sauce         5   \n",
       "\n",
       "                        aisle  department_id department  count  \n",
       "0               cookies cakes             19     snacks    231  \n",
       "1           spices seasonings             13     pantry     11  \n",
       "2                         tea              7  beverages     44  \n",
       "3                frozen meals              1     frozen     35  \n",
       "4  marinades meat preparation             13     pantry      9  "
      ]
     },
     "execution_count": 250,
     "metadata": {},
     "output_type": "execute_result"
    }
   ],
   "source": [
    "# Query the database and load the data\n",
    "cur.execute(\"\"\"\n",
    "    SELECT p.product_id,\n",
    "           p.product_name,\n",
    "           p.aisle_id,\n",
    "           a.aisle,\n",
    "           p.department_id,\n",
    "           d.department,\n",
    "           COUNT(op.product_id) AS count\n",
    "    FROM products AS p\n",
    "    LEFT JOIN order_products AS op\n",
    "    ON p.product_id = op.product_id\n",
    "    LEFT JOIN departments AS d\n",
    "    ON p.department_id = d.department_id\n",
    "    LEFT JOIN aisles AS a\n",
    "    ON p.aisle_id = a.aisle_id\n",
    "    GROUP BY 1, 2, 3, 4, 5, 6\n",
    "            ;\"\"\")\n",
    "depts = pd.DataFrame(cur.fetchall())\n",
    "depts.columns = [x[0] for x in cur.description]\n",
    "depts.head()"
   ]
  },
  {
   "cell_type": "code",
   "execution_count": 259,
   "metadata": {
    "ExecuteTime": {
     "end_time": "2020-03-12T21:32:42.925447Z",
     "start_time": "2020-03-12T21:32:42.907286Z"
    }
   },
   "outputs": [],
   "source": [
    "by_dept = pd.DataFrame(depts.groupby(['department_id', 'department'])['count'].sum()).reset_index()\n",
    "by_dept.sort_values('count', ascending=False, inplace=True)"
   ]
  },
  {
   "cell_type": "code",
   "execution_count": 269,
   "metadata": {
    "ExecuteTime": {
     "end_time": "2020-03-12T21:38:37.300786Z",
     "start_time": "2020-03-12T21:38:36.861343Z"
    }
   },
   "outputs": [
    {
     "data": {
      "image/png": "[encoded data removed]",
      "text/plain": [
       "<Figure size 864x576 with 1 Axes>"
      ]
     },
     "metadata": {},
     "output_type": "display_data"
    }
   ],
   "source": [
    "plt.figure(figsize=(12,8))\n",
    "sns.barplot(x='count', y='department', data=by_dept, orient='h', color='lightgreen')\n",
    "plt.title('Total Products Purchased Per Department')\n",
    "plt.xlabel('Number of Products')\n",
    "plt.xticks([0, 2e5, 4e5, 6e5, 8e5, 1e6, 1.2e6], ['0', '200k', '400k', '600k', '800k', '1m', '1.2m'])\n",
    "plt.ylabel('')\n",
    "plt.show();"
   ]
  },
  {
   "cell_type": "code",
   "execution_count": 264,
   "metadata": {
    "ExecuteTime": {
     "end_time": "2020-03-12T21:36:42.224309Z",
     "start_time": "2020-03-12T21:36:42.200422Z"
    }
   },
   "outputs": [],
   "source": [
    "by_aisle = pd.DataFrame(depts.groupby(['aisle_id', 'aisle'])['count'].sum()).reset_index()\n",
    "by_aisle.sort_values('count', ascending=False, inplace=True)"
   ]
  },
  {
   "cell_type": "code",
   "execution_count": 272,
   "metadata": {
    "ExecuteTime": {
     "end_time": "2020-03-12T21:39:28.475095Z",
     "start_time": "2020-03-12T21:39:28.091697Z"
    }
   },
   "outputs": [
    {
     "data": {
      "image/png": "[encoded data removed]",
      "text/plain": [
       "<Figure size 864x576 with 1 Axes>"
      ]
     },
     "metadata": {},
     "output_type": "display_data"
    }
   ],
   "source": [
    "plt.figure(figsize=(12,8))\n",
    "sns.barplot(x='count', y='aisle', data=by_aisle[:20], orient='h', color='lightgreen')\n",
    "plt.title('Total Products Purchased in Top 20 Aisles')\n",
    "plt.xlabel('Number of Products')\n",
    "plt.xticks([0, 1e5, 2e5, 3e5, 4e5, 5e5], ['0', '100k', '200k', '300k', '400k', '500k'])\n",
    "plt.ylabel('')\n",
    "plt.show();"
   ]
  },
  {
   "cell_type": "markdown",
   "metadata": {},
   "source": [
    "### Top X% of users"
   ]
  },
  {
   "cell_type": "code",
   "execution_count": null,
   "metadata": {},
   "outputs": [],
   "source": []
  },
  {
   "cell_type": "code",
   "execution_count": null,
   "metadata": {},
   "outputs": [],
   "source": []
  },
  {
   "cell_type": "code",
   "execution_count": null,
   "metadata": {},
   "outputs": [],
   "source": []
  },
  {
   "cell_type": "code",
   "execution_count": null,
   "metadata": {},
   "outputs": [],
   "source": []
  },
  {
   "cell_type": "markdown",
   "metadata": {},
   "source": [
    "## Hypothesis tests"
   ]
  },
  {
   "cell_type": "markdown",
   "metadata": {},
   "source": [
    "Weeknight order product count v. weekend order product count"
   ]
  },
  {
   "cell_type": "code",
   "execution_count": null,
   "metadata": {},
   "outputs": [],
   "source": []
  },
  {
   "cell_type": "code",
   "execution_count": null,
   "metadata": {},
   "outputs": [],
   "source": []
  },
  {
   "cell_type": "markdown",
   "metadata": {},
   "source": [
    "## Clustering"
   ]
  },
  {
   "cell_type": "markdown",
   "metadata": {},
   "source": [
    "### Calculate RFM values"
   ]
  },
  {
   "cell_type": "markdown",
   "metadata": {},
   "source": [
    "### Test various numbers of clusters (elbow plot)"
   ]
  },
  {
   "cell_type": "markdown",
   "metadata": {},
   "source": [
    "### Calculate best # clusters +/- 1"
   ]
  },
  {
   "cell_type": "markdown",
   "metadata": {},
   "source": [
    "### Visualize clusters with t-SNE"
   ]
  },
  {
   "cell_type": "code",
   "execution_count": null,
   "metadata": {},
   "outputs": [],
   "source": []
  },
  {
   "cell_type": "markdown",
   "metadata": {},
   "source": [
    "# Recommendations"
   ]
  },
  {
   "cell_type": "code",
   "execution_count": null,
   "metadata": {},
   "outputs": [],
   "source": []
  }
 ],
 "metadata": {
  "kernelspec": {
   "display_name": "learn-env",
   "language": "python",
   "name": "learn-env"
  },
  "language_info": {
   "codemirror_mode": {
    "name": "ipython",
    "version": 3
   },
   "file_extension": ".py",
   "mimetype": "text/x-python",
   "name": "python",
   "nbconvert_exporter": "python",
   "pygments_lexer": "ipython3",
   "version": "3.6.6"
  },
  "toc": {
   "base_numbering": 1,
   "nav_menu": {},
   "number_sections": true,
   "sideBar": true,
   "skip_h1_title": false,
   "title_cell": "Table of Contents",
   "title_sidebar": "Contents",
   "toc_cell": true,
   "toc_position": {},
   "toc_section_display": true,
   "toc_window_display": false
  }
 },
 "nbformat": 4,
 "nbformat_minor": 2
}
